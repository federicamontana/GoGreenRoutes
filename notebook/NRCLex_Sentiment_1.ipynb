{
 "cells": [
  {
   "cell_type": "code",
   "execution_count": 10,
   "metadata": {},
   "outputs": [],
   "source": [
    "import pandas as pd\n",
    "import numpy as np \n",
    "from nrclex import NRCLex \n",
    "import matplotlib.pyplot as plt\n",
    "import seaborn as sns\n",
    "\n",
    "import os\n",
    "import sys\n",
    "\n",
    "# module_path = os.path.abspath(os.path.join('.'))\n",
    "# if module_path not in sys.path:\n",
    "#     sys.path.append(module_path)\n",
    "\n",
    "#https://github.com/metalcorebear/NRCLex/blob/cda50c7d7c51709acf506b815037cb376572a629/README.md"
   ]
  },
  {
   "cell_type": "code",
   "execution_count": 11,
   "metadata": {},
   "outputs": [],
   "source": [
    "#read dataframe\n",
    "df = pd.read_csv ('../dataframe/dfc.csv')"
   ]
  },
  {
   "cell_type": "code",
   "execution_count": 12,
   "metadata": {},
   "outputs": [],
   "source": [
    "#Carico il dizionario \n",
    "#filepath = \"../dict/NRC-Emotion-Lexicon-Wordlevel-v0.92.txt\"\n",
    "#emolex_df = pd.read_csv(filepath,  names=[\"word\", \"emotion\", \"association\"], skiprows=45, sep='\\t')"
   ]
  },
  {
   "cell_type": "markdown",
   "metadata": {},
   "source": [
    "### STEP 1 - vedere il sentimento in media nei parchi \n"
   ]
  },
  {
   "cell_type": "code",
   "execution_count": 13,
   "metadata": {},
   "outputs": [
    {
     "data": {
      "text/plain": [
       "pandas.core.series.Series"
      ]
     },
     "execution_count": 13,
     "metadata": {},
     "output_type": "execute_result"
    }
   ],
   "source": [
    "type(df[\"text1\"])"
   ]
  },
  {
   "cell_type": "code",
   "execution_count": 14,
   "metadata": {},
   "outputs": [
    {
     "data": {
      "text/html": [
       "<div>\n",
       "<style scoped>\n",
       "    .dataframe tbody tr th:only-of-type {\n",
       "        vertical-align: middle;\n",
       "    }\n",
       "\n",
       "    .dataframe tbody tr th {\n",
       "        vertical-align: top;\n",
       "    }\n",
       "\n",
       "    .dataframe thead th {\n",
       "        text-align: right;\n",
       "    }\n",
       "</style>\n",
       "<table border=\"1\" class=\"dataframe\">\n",
       "  <thead>\n",
       "    <tr style=\"text-align: right;\">\n",
       "      <th></th>\n",
       "      <th>Unnamed: 0</th>\n",
       "      <th>_id</th>\n",
       "      <th>entities</th>\n",
       "      <th>conversation_id</th>\n",
       "      <th>author_id</th>\n",
       "      <th>geo</th>\n",
       "      <th>lang</th>\n",
       "      <th>attachments</th>\n",
       "      <th>public_metrics</th>\n",
       "      <th>text</th>\n",
       "      <th>...</th>\n",
       "      <th>text1</th>\n",
       "      <th>Polarity Score</th>\n",
       "      <th>Neutral Score</th>\n",
       "      <th>Negative Score</th>\n",
       "      <th>Positive Score</th>\n",
       "      <th>Sentiment</th>\n",
       "      <th>token</th>\n",
       "      <th>emotions_dict</th>\n",
       "      <th>emotions_freq</th>\n",
       "      <th>emotions_top</th>\n",
       "    </tr>\n",
       "  </thead>\n",
       "  <tbody>\n",
       "    <tr>\n",
       "      <th>0</th>\n",
       "      <td>0</td>\n",
       "      <td>633029307275866112</td>\n",
       "      <td>{'hashtags': [{'start': 22, 'end': 28, 'tag': ...</td>\n",
       "      <td>633029307275866112</td>\n",
       "      <td>1448623789</td>\n",
       "      <td>{'place_id': '54e862bb3ff2f749'}</td>\n",
       "      <td>en</td>\n",
       "      <td>{'media_keys': ['3_633029305400954880']}</td>\n",
       "      <td>{'retweet_count': 2, 'reply_count': 0, 'like_c...</td>\n",
       "      <td>Adare Farm supporting #Adare in #LimerickGoing...</td>\n",
       "      <td>...</td>\n",
       "      <td>adare farm support adare limerickgoingforgold ...</td>\n",
       "      <td>0.4019</td>\n",
       "      <td>0.816</td>\n",
       "      <td>0.0</td>\n",
       "      <td>0.184</td>\n",
       "      <td>Positive</td>\n",
       "      <td>['adare', 'farm', 'support', 'adare', 'limeric...</td>\n",
       "      <td>{'farm': ['anticipation'], 'gold': ['positive']}</td>\n",
       "      <td>{'fear': 0.0, 'anger': 0.0, 'anticip': 0.0, 't...</td>\n",
       "      <td>[(positive, 0.5), (anticipation, 0.5)]</td>\n",
       "    </tr>\n",
       "    <tr>\n",
       "      <th>1</th>\n",
       "      <td>1</td>\n",
       "      <td>1514874742750261251</td>\n",
       "      <td>{'mentions': [{'start': 21, 'end': 36, 'userna...</td>\n",
       "      <td>1514874742750261251</td>\n",
       "      <td>93829151</td>\n",
       "      <td>{'place_id': '54e862bb3ff2f749'}</td>\n",
       "      <td>en</td>\n",
       "      <td>{'media_keys': ['3_1514874728154120195']}</td>\n",
       "      <td>{'retweet_count': 7, 'reply_count': 0, 'like_c...</td>\n",
       "      <td>Adare Manor team and @adaretidytowns ready for...</td>\n",
       "      <td>...</td>\n",
       "      <td>adare manor team adaretidytown ready year team...</td>\n",
       "      <td>0.3612</td>\n",
       "      <td>0.828</td>\n",
       "      <td>0.0</td>\n",
       "      <td>0.172</td>\n",
       "      <td>Positive</td>\n",
       "      <td>['adare', 'manor', 'team', 'adaretidytown', 'r...</td>\n",
       "      <td>{'team': ['trust'], 'ready': ['anticipation']}</td>\n",
       "      <td>{'fear': 0.0, 'anger': 0.0, 'anticip': 0.0, 't...</td>\n",
       "      <td>[(trust, 0.6666666666666666)]</td>\n",
       "    </tr>\n",
       "    <tr>\n",
       "      <th>2</th>\n",
       "      <td>2</td>\n",
       "      <td>1038675384940810240</td>\n",
       "      <td>{'urls': [{'start': 205, 'end': 228, 'url': 'h...</td>\n",
       "      <td>1038675384940810240</td>\n",
       "      <td>1675222543</td>\n",
       "      <td>{'place_id': '54e862bb3ff2f749'}</td>\n",
       "      <td>en</td>\n",
       "      <td>{'media_keys': ['3_1038675357560451072']}</td>\n",
       "      <td>{'retweet_count': 0, 'reply_count': 0, 'like_c...</td>\n",
       "      <td>En Plein Air, Adare. Third placed submission b...</td>\n",
       "      <td>...</td>\n",
       "      <td>en plein air adare place submission tralee bas...</td>\n",
       "      <td>0.0000</td>\n",
       "      <td>1.000</td>\n",
       "      <td>0.0</td>\n",
       "      <td>0.000</td>\n",
       "      <td>Neutral</td>\n",
       "      <td>['en', 'plein', 'air', 'adare', 'place', 'subm...</td>\n",
       "      <td>{'base': ['trust']}</td>\n",
       "      <td>{'fear': 0.0, 'anger': 0.0, 'anticip': 0.0, 't...</td>\n",
       "      <td>[(trust, 1.0)]</td>\n",
       "    </tr>\n",
       "    <tr>\n",
       "      <th>3</th>\n",
       "      <td>3</td>\n",
       "      <td>866992354779070465</td>\n",
       "      <td>{'hashtags': [{'start': 64, 'end': 70, 'tag': ...</td>\n",
       "      <td>866992354779070465</td>\n",
       "      <td>202774289</td>\n",
       "      <td>{'place_id': '54e862bb3ff2f749'}</td>\n",
       "      <td>en</td>\n",
       "      <td>{'media_keys': ['3_866992337922256900']}</td>\n",
       "      <td>{'retweet_count': 2, 'reply_count': 0, 'like_c...</td>\n",
       "      <td>Adare Manor coming on every time I'm here ..wi...</td>\n",
       "      <td>...</td>\n",
       "      <td>adare manor come time I m course adare</td>\n",
       "      <td>0.0000</td>\n",
       "      <td>1.000</td>\n",
       "      <td>0.0</td>\n",
       "      <td>0.000</td>\n",
       "      <td>Neutral</td>\n",
       "      <td>['adare', 'manor', 'come', 'time', 'I', 'm', '...</td>\n",
       "      <td>{'time': ['anticipation']}</td>\n",
       "      <td>{'fear': 0.0, 'anger': 0.0, 'anticip': 0.0, 't...</td>\n",
       "      <td>[(anticipation, 1.0)]</td>\n",
       "    </tr>\n",
       "    <tr>\n",
       "      <th>4</th>\n",
       "      <td>4</td>\n",
       "      <td>508310526875942912</td>\n",
       "      <td>{'annotations': [{'start': 75, 'end': 91, 'pro...</td>\n",
       "      <td>508310526875942912</td>\n",
       "      <td>2355038665</td>\n",
       "      <td>{'place_id': '54e862bb3ff2f749'}</td>\n",
       "      <td>en</td>\n",
       "      <td>NaN</td>\n",
       "      <td>{'retweet_count': 0, 'reply_count': 0, 'like_c...</td>\n",
       "      <td>This creep keeps following me around... #adare...</td>\n",
       "      <td>...</td>\n",
       "      <td>creep keep follow adare roadtrip summerofdream...</td>\n",
       "      <td>0.0000</td>\n",
       "      <td>1.000</td>\n",
       "      <td>0.0</td>\n",
       "      <td>0.000</td>\n",
       "      <td>Neutral</td>\n",
       "      <td>['creep', 'keep', 'follow', 'adare', 'roadtrip...</td>\n",
       "      <td>{'creep': ['negative']}</td>\n",
       "      <td>{'fear': 0.0, 'anger': 0.0, 'anticip': 0.0, 't...</td>\n",
       "      <td>[(negative, 1.0)]</td>\n",
       "    </tr>\n",
       "  </tbody>\n",
       "</table>\n",
       "<p>5 rows × 23 columns</p>\n",
       "</div>"
      ],
      "text/plain": [
       "   Unnamed: 0                  _id  \\\n",
       "0           0   633029307275866112   \n",
       "1           1  1514874742750261251   \n",
       "2           2  1038675384940810240   \n",
       "3           3   866992354779070465   \n",
       "4           4   508310526875942912   \n",
       "\n",
       "                                            entities      conversation_id  \\\n",
       "0  {'hashtags': [{'start': 22, 'end': 28, 'tag': ...   633029307275866112   \n",
       "1  {'mentions': [{'start': 21, 'end': 36, 'userna...  1514874742750261251   \n",
       "2  {'urls': [{'start': 205, 'end': 228, 'url': 'h...  1038675384940810240   \n",
       "3  {'hashtags': [{'start': 64, 'end': 70, 'tag': ...   866992354779070465   \n",
       "4  {'annotations': [{'start': 75, 'end': 91, 'pro...   508310526875942912   \n",
       "\n",
       "    author_id                               geo lang  \\\n",
       "0  1448623789  {'place_id': '54e862bb3ff2f749'}   en   \n",
       "1    93829151  {'place_id': '54e862bb3ff2f749'}   en   \n",
       "2  1675222543  {'place_id': '54e862bb3ff2f749'}   en   \n",
       "3   202774289  {'place_id': '54e862bb3ff2f749'}   en   \n",
       "4  2355038665  {'place_id': '54e862bb3ff2f749'}   en   \n",
       "\n",
       "                                 attachments  \\\n",
       "0   {'media_keys': ['3_633029305400954880']}   \n",
       "1  {'media_keys': ['3_1514874728154120195']}   \n",
       "2  {'media_keys': ['3_1038675357560451072']}   \n",
       "3   {'media_keys': ['3_866992337922256900']}   \n",
       "4                                        NaN   \n",
       "\n",
       "                                      public_metrics  \\\n",
       "0  {'retweet_count': 2, 'reply_count': 0, 'like_c...   \n",
       "1  {'retweet_count': 7, 'reply_count': 0, 'like_c...   \n",
       "2  {'retweet_count': 0, 'reply_count': 0, 'like_c...   \n",
       "3  {'retweet_count': 2, 'reply_count': 0, 'like_c...   \n",
       "4  {'retweet_count': 0, 'reply_count': 0, 'like_c...   \n",
       "\n",
       "                                                text  ...  \\\n",
       "0  Adare Farm supporting #Adare in #LimerickGoing...  ...   \n",
       "1  Adare Manor team and @adaretidytowns ready for...  ...   \n",
       "2  En Plein Air, Adare. Third placed submission b...  ...   \n",
       "3  Adare Manor coming on every time I'm here ..wi...  ...   \n",
       "4  This creep keeps following me around... #adare...  ...   \n",
       "\n",
       "                                               text1  Polarity Score  \\\n",
       "0  adare farm support adare limerickgoingforgold ...          0.4019   \n",
       "1  adare manor team adaretidytown ready year team...          0.3612   \n",
       "2  en plein air adare place submission tralee bas...          0.0000   \n",
       "3             adare manor come time I m course adare          0.0000   \n",
       "4  creep keep follow adare roadtrip summerofdream...          0.0000   \n",
       "\n",
       "  Neutral Score Negative Score  Positive Score  Sentiment  \\\n",
       "0         0.816            0.0           0.184   Positive   \n",
       "1         0.828            0.0           0.172   Positive   \n",
       "2         1.000            0.0           0.000    Neutral   \n",
       "3         1.000            0.0           0.000    Neutral   \n",
       "4         1.000            0.0           0.000    Neutral   \n",
       "\n",
       "                                               token  \\\n",
       "0  ['adare', 'farm', 'support', 'adare', 'limeric...   \n",
       "1  ['adare', 'manor', 'team', 'adaretidytown', 'r...   \n",
       "2  ['en', 'plein', 'air', 'adare', 'place', 'subm...   \n",
       "3  ['adare', 'manor', 'come', 'time', 'I', 'm', '...   \n",
       "4  ['creep', 'keep', 'follow', 'adare', 'roadtrip...   \n",
       "\n",
       "                                      emotions_dict  \\\n",
       "0  {'farm': ['anticipation'], 'gold': ['positive']}   \n",
       "1    {'team': ['trust'], 'ready': ['anticipation']}   \n",
       "2                               {'base': ['trust']}   \n",
       "3                        {'time': ['anticipation']}   \n",
       "4                           {'creep': ['negative']}   \n",
       "\n",
       "                                       emotions_freq  \\\n",
       "0  {'fear': 0.0, 'anger': 0.0, 'anticip': 0.0, 't...   \n",
       "1  {'fear': 0.0, 'anger': 0.0, 'anticip': 0.0, 't...   \n",
       "2  {'fear': 0.0, 'anger': 0.0, 'anticip': 0.0, 't...   \n",
       "3  {'fear': 0.0, 'anger': 0.0, 'anticip': 0.0, 't...   \n",
       "4  {'fear': 0.0, 'anger': 0.0, 'anticip': 0.0, 't...   \n",
       "\n",
       "                             emotions_top  \n",
       "0  [(positive, 0.5), (anticipation, 0.5)]  \n",
       "1           [(trust, 0.6666666666666666)]  \n",
       "2                          [(trust, 1.0)]  \n",
       "3                   [(anticipation, 1.0)]  \n",
       "4                       [(negative, 1.0)]  \n",
       "\n",
       "[5 rows x 23 columns]"
      ]
     },
     "execution_count": 14,
     "metadata": {},
     "output_type": "execute_result"
    }
   ],
   "source": [
    "#Return affect dictionary : in ogni tweet le parole con il sentimento associato\n",
    "df[\"emotions_dict\"] = df[\"text1\"].apply(lambda x: NRCLex(x).affect_dict) \n",
    "#Return affect frequencies\n",
    "df[\"emotions_freq\"] = df[\"text1\"].apply(lambda x: NRCLex(x).affect_frequencies)\n",
    "#Return highest emotions\n",
    "df[\"emotions_top\"] = df[\"text1\"].apply(lambda x: NRCLex(x).top_emotions)\n",
    "df.head()"
   ]
  },
  {
   "cell_type": "markdown",
   "metadata": {},
   "source": [
    "Seleziono il dataframe con le colonne che mi interessano"
   ]
  },
  {
   "cell_type": "code",
   "execution_count": 15,
   "metadata": {},
   "outputs": [
    {
     "data": {
      "text/html": [
       "<div>\n",
       "<style scoped>\n",
       "    .dataframe tbody tr th:only-of-type {\n",
       "        vertical-align: middle;\n",
       "    }\n",
       "\n",
       "    .dataframe tbody tr th {\n",
       "        vertical-align: top;\n",
       "    }\n",
       "\n",
       "    .dataframe thead th {\n",
       "        text-align: right;\n",
       "    }\n",
       "</style>\n",
       "<table border=\"1\" class=\"dataframe\">\n",
       "  <thead>\n",
       "    <tr style=\"text-align: right;\">\n",
       "      <th></th>\n",
       "      <th>text1</th>\n",
       "      <th>emotions_freq</th>\n",
       "    </tr>\n",
       "  </thead>\n",
       "  <tbody>\n",
       "    <tr>\n",
       "      <th>0</th>\n",
       "      <td>adare farm support adare limerickgoingforgold ...</td>\n",
       "      <td>{'fear': 0.0, 'anger': 0.0, 'anticip': 0.0, 't...</td>\n",
       "    </tr>\n",
       "    <tr>\n",
       "      <th>1</th>\n",
       "      <td>adare manor team adaretidytown ready year team...</td>\n",
       "      <td>{'fear': 0.0, 'anger': 0.0, 'anticip': 0.0, 't...</td>\n",
       "    </tr>\n",
       "    <tr>\n",
       "      <th>2</th>\n",
       "      <td>en plein air adare place submission tralee bas...</td>\n",
       "      <td>{'fear': 0.0, 'anger': 0.0, 'anticip': 0.0, 't...</td>\n",
       "    </tr>\n",
       "    <tr>\n",
       "      <th>3</th>\n",
       "      <td>adare manor come time I m course adare</td>\n",
       "      <td>{'fear': 0.0, 'anger': 0.0, 'anticip': 0.0, 't...</td>\n",
       "    </tr>\n",
       "    <tr>\n",
       "      <th>4</th>\n",
       "      <td>creep keep follow adare roadtrip summerofdream...</td>\n",
       "      <td>{'fear': 0.0, 'anger': 0.0, 'anticip': 0.0, 't...</td>\n",
       "    </tr>\n",
       "  </tbody>\n",
       "</table>\n",
       "</div>"
      ],
      "text/plain": [
       "                                               text1  \\\n",
       "0  adare farm support adare limerickgoingforgold ...   \n",
       "1  adare manor team adaretidytown ready year team...   \n",
       "2  en plein air adare place submission tralee bas...   \n",
       "3             adare manor come time I m course adare   \n",
       "4  creep keep follow adare roadtrip summerofdream...   \n",
       "\n",
       "                                       emotions_freq  \n",
       "0  {'fear': 0.0, 'anger': 0.0, 'anticip': 0.0, 't...  \n",
       "1  {'fear': 0.0, 'anger': 0.0, 'anticip': 0.0, 't...  \n",
       "2  {'fear': 0.0, 'anger': 0.0, 'anticip': 0.0, 't...  \n",
       "3  {'fear': 0.0, 'anger': 0.0, 'anticip': 0.0, 't...  \n",
       "4  {'fear': 0.0, 'anger': 0.0, 'anticip': 0.0, 't...  "
      ]
     },
     "execution_count": 15,
     "metadata": {},
     "output_type": "execute_result"
    }
   ],
   "source": [
    "# Select dataframe with cleaned text (text1), emotions_dict, emotions_freq, emotions_top\n",
    "df2 = df[[\"text1\",\"emotions_dict\",\"emotions_freq\",\"emotions_top\"]]\n",
    "df_f= df2[[\"text1\",\"emotions_freq\"]]\n",
    "df_f.head()"
   ]
  },
  {
   "cell_type": "code",
   "execution_count": 16,
   "metadata": {},
   "outputs": [],
   "source": [
    "#Concateno il dataframe df_f in cui ho preso solo la colonna text1 con drop\n",
    "# e quello in cui ho estratto il dizionario in formato pandas e messo le emozioni in colonna\n",
    "#con .drop elimino la colonna anticip che è in più dato che esiste anticipation\n",
    "df_s = pd.concat([df_f.drop(['emotions_freq'], axis = 1), df_f['emotions_freq'].apply(pd.Series).drop(\"anticip\", axis=1)], axis = 1)"
   ]
  },
  {
   "cell_type": "code",
   "execution_count": 17,
   "metadata": {},
   "outputs": [
    {
     "data": {
      "text/html": [
       "<div>\n",
       "<style scoped>\n",
       "    .dataframe tbody tr th:only-of-type {\n",
       "        vertical-align: middle;\n",
       "    }\n",
       "\n",
       "    .dataframe tbody tr th {\n",
       "        vertical-align: top;\n",
       "    }\n",
       "\n",
       "    .dataframe thead th {\n",
       "        text-align: right;\n",
       "    }\n",
       "</style>\n",
       "<table border=\"1\" class=\"dataframe\">\n",
       "  <thead>\n",
       "    <tr style=\"text-align: right;\">\n",
       "      <th></th>\n",
       "      <th>text1</th>\n",
       "      <th>fear</th>\n",
       "      <th>anger</th>\n",
       "      <th>trust</th>\n",
       "      <th>surprise</th>\n",
       "      <th>positive</th>\n",
       "      <th>negative</th>\n",
       "      <th>sadness</th>\n",
       "      <th>disgust</th>\n",
       "      <th>joy</th>\n",
       "      <th>anticipation</th>\n",
       "    </tr>\n",
       "  </thead>\n",
       "  <tbody>\n",
       "    <tr>\n",
       "      <th>0</th>\n",
       "      <td>adare farm support adare limerickgoingforgold ...</td>\n",
       "      <td>0.0</td>\n",
       "      <td>0.0</td>\n",
       "      <td>0.000000</td>\n",
       "      <td>0.0</td>\n",
       "      <td>0.5</td>\n",
       "      <td>0.0</td>\n",
       "      <td>0.0</td>\n",
       "      <td>0.0</td>\n",
       "      <td>0.0</td>\n",
       "      <td>0.500000</td>\n",
       "    </tr>\n",
       "    <tr>\n",
       "      <th>1</th>\n",
       "      <td>adare manor team adaretidytown ready year team...</td>\n",
       "      <td>0.0</td>\n",
       "      <td>0.0</td>\n",
       "      <td>0.666667</td>\n",
       "      <td>0.0</td>\n",
       "      <td>0.0</td>\n",
       "      <td>0.0</td>\n",
       "      <td>0.0</td>\n",
       "      <td>0.0</td>\n",
       "      <td>0.0</td>\n",
       "      <td>0.333333</td>\n",
       "    </tr>\n",
       "    <tr>\n",
       "      <th>2</th>\n",
       "      <td>en plein air adare place submission tralee bas...</td>\n",
       "      <td>0.0</td>\n",
       "      <td>0.0</td>\n",
       "      <td>1.000000</td>\n",
       "      <td>0.0</td>\n",
       "      <td>0.0</td>\n",
       "      <td>0.0</td>\n",
       "      <td>0.0</td>\n",
       "      <td>0.0</td>\n",
       "      <td>0.0</td>\n",
       "      <td>0.000000</td>\n",
       "    </tr>\n",
       "    <tr>\n",
       "      <th>3</th>\n",
       "      <td>adare manor come time I m course adare</td>\n",
       "      <td>0.0</td>\n",
       "      <td>0.0</td>\n",
       "      <td>0.000000</td>\n",
       "      <td>0.0</td>\n",
       "      <td>0.0</td>\n",
       "      <td>0.0</td>\n",
       "      <td>0.0</td>\n",
       "      <td>0.0</td>\n",
       "      <td>0.0</td>\n",
       "      <td>1.000000</td>\n",
       "    </tr>\n",
       "    <tr>\n",
       "      <th>4</th>\n",
       "      <td>creep keep follow adare roadtrip summerofdream...</td>\n",
       "      <td>0.0</td>\n",
       "      <td>0.0</td>\n",
       "      <td>0.000000</td>\n",
       "      <td>0.0</td>\n",
       "      <td>0.0</td>\n",
       "      <td>1.0</td>\n",
       "      <td>0.0</td>\n",
       "      <td>0.0</td>\n",
       "      <td>0.0</td>\n",
       "      <td>0.000000</td>\n",
       "    </tr>\n",
       "  </tbody>\n",
       "</table>\n",
       "</div>"
      ],
      "text/plain": [
       "                                               text1  fear  anger     trust  \\\n",
       "0  adare farm support adare limerickgoingforgold ...   0.0    0.0  0.000000   \n",
       "1  adare manor team adaretidytown ready year team...   0.0    0.0  0.666667   \n",
       "2  en plein air adare place submission tralee bas...   0.0    0.0  1.000000   \n",
       "3             adare manor come time I m course adare   0.0    0.0  0.000000   \n",
       "4  creep keep follow adare roadtrip summerofdream...   0.0    0.0  0.000000   \n",
       "\n",
       "   surprise  positive  negative  sadness  disgust  joy  anticipation  \n",
       "0       0.0       0.5       0.0      0.0      0.0  0.0      0.500000  \n",
       "1       0.0       0.0       0.0      0.0      0.0  0.0      0.333333  \n",
       "2       0.0       0.0       0.0      0.0      0.0  0.0      0.000000  \n",
       "3       0.0       0.0       0.0      0.0      0.0  0.0      1.000000  \n",
       "4       0.0       0.0       1.0      0.0      0.0  0.0      0.000000  "
      ]
     },
     "execution_count": 17,
     "metadata": {},
     "output_type": "execute_result"
    }
   ],
   "source": [
    "#Replace NaN with 0\n",
    "df_s = df_s.replace(np.nan,0)\n",
    "df_s.head()"
   ]
  },
  {
   "cell_type": "code",
   "execution_count": 18,
   "metadata": {},
   "outputs": [
    {
     "name": "stdout",
     "output_type": "stream",
     "text": [
      "fear :  0.024\n",
      "anger :  0.024\n",
      "trust :  0.115\n",
      "surprise :  0.041\n",
      "positive :  0.246\n",
      "negative :  0.069\n",
      "sadness :  0.026\n",
      "disgust :  0.011\n",
      "joy :  0.105\n",
      "anticipation :  0.137\n"
     ]
    }
   ],
   "source": [
    "#recall the function to compute the mean\n",
    "# i indicate all the emotions \n",
    "sys.path.insert(1,'/Users/FEDERICA/Desktop/GoGreenRoutes')\n",
    "from Utility_Fede import aggregation\n",
    "aggr = []\n",
    "labels = []\n",
    "\n",
    "for i in df_f['emotions_freq'].apply(pd.Series).drop(\"anticip\", axis=1) : aggregation(i,df_s,aggr,labels)\n"
   ]
  },
  {
   "cell_type": "code",
   "execution_count": 22,
   "metadata": {},
   "outputs": [
    {
     "data": {
      "text/plain": [
       "['fear',\n",
       " 'anger',\n",
       " 'trust',\n",
       " 'surprise',\n",
       " 'positive',\n",
       " 'negative',\n",
       " 'sadness',\n",
       " 'disgust',\n",
       " 'joy',\n",
       " 'anticipation']"
      ]
     },
     "execution_count": 22,
     "metadata": {},
     "output_type": "execute_result"
    }
   ],
   "source": [
    "labels"
   ]
  },
  {
   "cell_type": "code",
   "execution_count": 19,
   "metadata": {},
   "outputs": [
    {
     "data": {
      "image/png": "[encoded data removed]",
      "text/plain": [
       "<Figure size 432x288 with 1 Axes>"
      ]
     },
     "metadata": {},
     "output_type": "display_data"
    }
   ],
   "source": [
    "#create pie chart\n",
    "plt.pie(aggr, labels = labels) #, autopct='%.0f%%'\n",
    "sns.set(rc={'figure.figsize':(20,10)})\n",
    "plt.show()"
   ]
  },
  {
   "cell_type": "markdown",
   "metadata": {},
   "source": [
    "## Ordinare in ordine crescente per vedere qual è il sentimento piu ricorrente"
   ]
  },
  {
   "cell_type": "code",
   "execution_count": null,
   "metadata": {},
   "outputs": [],
   "source": [
    "emotional_df = pd.DataFrame(\n",
    "    {'emotion': labels,\n",
    "     'aggregation': aggr,\n",
    "    })"
   ]
  },
  {
   "cell_type": "code",
   "execution_count": null,
   "metadata": {},
   "outputs": [],
   "source": [
    "df_most_common = emotional_df.sort_values(by=['aggregation'],ascending=False)\n",
    "df_most_common"
   ]
  },
  {
   "cell_type": "code",
   "execution_count": null,
   "metadata": {},
   "outputs": [],
   "source": [
    "plt.figure(figsize=(8,10))\n",
    "sns.barplot(y = 'emotion', x= 'aggregation', data = df_most_common)\n",
    "plt.show()"
   ]
  },
  {
   "cell_type": "markdown",
   "metadata": {},
   "source": [
    "## STEP 2"
   ]
  },
  {
   "cell_type": "markdown",
   "metadata": {},
   "source": [
    "Vedere a quale parole è associato ogni sentimento che è presente nel parco"
   ]
  },
  {
   "cell_type": "code",
   "execution_count": null,
   "metadata": {},
   "outputs": [],
   "source": [
    "# Select dataframe with cleaned text (text1), emotions_dict, emotions_freq, emotions_top\n",
    "df2 = df[[\"text1\",\"emotions_dict\",\"emotions_freq\",\"emotions_top\"]]\n",
    "df_d= df2[[\"text1\",\"emotions_dict\",\"emotions_freq\"]]\n",
    "df_d"
   ]
  },
  {
   "cell_type": "markdown",
   "metadata": {},
   "source": [
    "Codice Virginia\n"
   ]
  },
  {
   "cell_type": "code",
   "execution_count": null,
   "metadata": {},
   "outputs": [],
   "source": [
    "print(df['text1'].astype('string'))\n",
    "# Since our data frame contains separate tweet strings, \n",
    "# we will join them to create a string object containing all of our tweets\n",
    "str_tweet = \",\".join(df[\"text1\"])\n",
    "str_tweet = str_tweet.split()\n",
    "\n",
    "# Let's for ex calculate the frequencies\n",
    "for i in range(len(str_tweet)):\n",
    "    text_object = NRCLex(str_tweet[i])\n",
    "\n",
    "# creation of the new dictionary\n",
    "my_emolex = emolex_df[emolex_df[\"word\"].isin(str_tweet)]\n",
    "\n",
    "# How many words does each emotion have? \n",
    "em_count = my_emolex[my_emolex.association == 1].emotion.value_counts()\n",
    "\n",
    "# Plot\n",
    "labels = [\"positive\", \"trust\", \"negative\", \"anticipation\", \"joy\", \"fear\", \"anger\", \"surprise\", \"sadness\", \"disgust\"]\n",
    "mycolors = [\"AliceBlue\", \"Aquamarine\", \"Coral\", \"LightGreen\", \"LightSkyBlue\", \"Violet\", \"Teal\", \"Tomato\", \"PapayaWhip\", \"Khaki\"]\n",
    "plt.pie(em_count, labels = labels, colors = mycolors)\n",
    " \n"
   ]
  },
  {
   "cell_type": "code",
   "execution_count": null,
   "metadata": {},
   "outputs": [],
   "source": []
  }
 ],
 "metadata": {
  "kernelspec": {
   "display_name": "Python 3.10.4 64-bit",
   "language": "python",
   "name": "python3"
  },
  "language_info": {
   "codemirror_mode": {
    "name": "ipython",
    "version": 3
   },
   "file_extension": ".py",
   "mimetype": "text/x-python",
   "name": "python",
   "nbconvert_exporter": "python",
   "pygments_lexer": "ipython3",
   "version": "3.10.4"
  },
  "orig_nbformat": 4,
  "vscode": {
   "interpreter": {
    "hash": "aee8b7b246df8f9039afb4144a1f6fd8d2ca17a180786b69acc140d282b71a49"
   }
  }
 },
 "nbformat": 4,
 "nbformat_minor": 2
}
