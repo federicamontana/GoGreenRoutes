{
 "cells": [
  {
   "cell_type": "code",
   "execution_count": 1,
   "metadata": {},
   "outputs": [],
   "source": [
    "import pandas as pd\n",
    "import numpy as np \n",
    "from nrclex import NRCLex \n",
    "import matplotlib.pyplot as plt\n",
    "import seaborn as sns\n",
    "import os\n",
    "import sys\n",
    "from pathlib import Path \n",
    "\n",
    "from Utility_Fede import label,new_df,find_values,explode\n",
    "from Sentiment_lists import fear_list, anger_list, trust_list, surprise_list, positive_list, negative_list, sadness_list, disgust_list, joy_list, anticipation_list"
   ]
  },
  {
   "cell_type": "code",
   "execution_count": 2,
   "metadata": {},
   "outputs": [],
   "source": [
    "#read dataframe\n",
    "df = pd.read_csv ('../dataframe/df_completec.csv')"
   ]
  },
  {
   "cell_type": "code",
   "execution_count": null,
   "metadata": {},
   "outputs": [],
   "source": [
    "#Vedo quante parole nel testo pulito text1 sono presenti nella lista positive\n",
    "df['result'] = df['text1'].apply(lambda x: find_values(x,positive_list))"
   ]
  },
  {
   "cell_type": "code",
   "execution_count": 11,
   "metadata": {},
   "outputs": [
    {
     "data": {
      "text/html": [
       "<div>\n",
       "<style scoped>\n",
       "    .dataframe tbody tr th:only-of-type {\n",
       "        vertical-align: middle;\n",
       "    }\n",
       "\n",
       "    .dataframe tbody tr th {\n",
       "        vertical-align: top;\n",
       "    }\n",
       "\n",
       "    .dataframe thead th {\n",
       "        text-align: right;\n",
       "    }\n",
       "</style>\n",
       "<table border=\"1\" class=\"dataframe\">\n",
       "  <thead>\n",
       "    <tr style=\"text-align: right;\">\n",
       "      <th></th>\n",
       "      <th>Unnamed: 0.1</th>\n",
       "      <th>Unnamed: 0</th>\n",
       "      <th>_id</th>\n",
       "      <th>entities</th>\n",
       "      <th>conversation_id</th>\n",
       "      <th>author_id</th>\n",
       "      <th>geo</th>\n",
       "      <th>lang</th>\n",
       "      <th>attachments</th>\n",
       "      <th>public_metrics</th>\n",
       "      <th>text</th>\n",
       "      <th>created_at</th>\n",
       "      <th>id</th>\n",
       "      <th>context_annotations</th>\n",
       "      <th>text1</th>\n",
       "      <th>token</th>\n",
       "      <th>result</th>\n",
       "    </tr>\n",
       "  </thead>\n",
       "  <tbody>\n",
       "    <tr>\n",
       "      <th>0</th>\n",
       "      <td>0</td>\n",
       "      <td>0</td>\n",
       "      <td>633029307275866112</td>\n",
       "      <td>{'hashtags': [{'start': 22, 'end': 28, 'tag': ...</td>\n",
       "      <td>633029307275866112</td>\n",
       "      <td>1448623789</td>\n",
       "      <td>{'place_id': '54e862bb3ff2f749'}</td>\n",
       "      <td>en</td>\n",
       "      <td>{'media_keys': ['3_633029305400954880']}</td>\n",
       "      <td>{'retweet_count': 2, 'reply_count': 0, 'like_c...</td>\n",
       "      <td>Adare Farm supporting #Adare in #LimerickGoing...</td>\n",
       "      <td>2015-08-16T21:35:22.000Z</td>\n",
       "      <td>633029307275866112</td>\n",
       "      <td>NaN</td>\n",
       "      <td>adare farm support adare limerickgoingforgold ...</td>\n",
       "      <td>['adare', 'farm', 'support', 'adare', 'limeric...</td>\n",
       "      <td>[gold]</td>\n",
       "    </tr>\n",
       "    <tr>\n",
       "      <th>1</th>\n",
       "      <td>1</td>\n",
       "      <td>1</td>\n",
       "      <td>1514874742750261251</td>\n",
       "      <td>{'mentions': [{'start': 21, 'end': 36, 'userna...</td>\n",
       "      <td>1514874742750261251</td>\n",
       "      <td>93829151</td>\n",
       "      <td>{'place_id': '54e862bb3ff2f749'}</td>\n",
       "      <td>en</td>\n",
       "      <td>{'media_keys': ['3_1514874728154120195']}</td>\n",
       "      <td>{'retweet_count': 7, 'reply_count': 0, 'like_c...</td>\n",
       "      <td>Adare Manor team and @adaretidytowns ready for...</td>\n",
       "      <td>2022-04-15T07:54:18.000Z</td>\n",
       "      <td>1514874742750261251</td>\n",
       "      <td>NaN</td>\n",
       "      <td>adare manor team adaretidytown ready year s te...</td>\n",
       "      <td>['adare', 'manor', 'team', 'adaretidytown', 'r...</td>\n",
       "      <td>[clean]</td>\n",
       "    </tr>\n",
       "    <tr>\n",
       "      <th>5</th>\n",
       "      <td>5</td>\n",
       "      <td>5</td>\n",
       "      <td>632977045291724800</td>\n",
       "      <td>{'urls': [{'start': 117, 'end': 139, 'url': 'h...</td>\n",
       "      <td>632977045291724800</td>\n",
       "      <td>1448623789</td>\n",
       "      <td>{'place_id': '54e862bb3ff2f749'}</td>\n",
       "      <td>en</td>\n",
       "      <td>{'media_keys': ['3_632977044134080512']}</td>\n",
       "      <td>{'retweet_count': 0, 'reply_count': 0, 'like_c...</td>\n",
       "      <td>@Serendipityshoe asking for you to VOTE for #A...</td>\n",
       "      <td>2015-08-16T18:07:42.000Z</td>\n",
       "      <td>632977045291724800</td>\n",
       "      <td>[{'domain': {'id': '19', 'name': 'Data Team Te...</td>\n",
       "      <td>serendipityshoe ask vote adare adaregoingforgo...</td>\n",
       "      <td>['serendipityshoe', 'ask', 'vote', 'adare', 'a...</td>\n",
       "      <td>[gold, vote]</td>\n",
       "    </tr>\n",
       "    <tr>\n",
       "      <th>6</th>\n",
       "      <td>6</td>\n",
       "      <td>6</td>\n",
       "      <td>633031275843072001</td>\n",
       "      <td>{'hashtags': [{'start': 29, 'end': 35, 'tag': ...</td>\n",
       "      <td>633031275843072001</td>\n",
       "      <td>1448623789</td>\n",
       "      <td>{'place_id': '54e862bb3ff2f749'}</td>\n",
       "      <td>en</td>\n",
       "      <td>{'media_keys': ['3_633031274404388864']}</td>\n",
       "      <td>{'retweet_count': 1, 'reply_count': 0, 'like_c...</td>\n",
       "      <td>The Village Fayre supporting #Adare by texting...</td>\n",
       "      <td>2015-08-16T21:43:11.000Z</td>\n",
       "      <td>633031275843072001</td>\n",
       "      <td>NaN</td>\n",
       "      <td>village fayre support adare texte gold adare n...</td>\n",
       "      <td>['village', 'fayre', 'support', 'adare', 'text...</td>\n",
       "      <td>[gold]</td>\n",
       "    </tr>\n",
       "    <tr>\n",
       "      <th>8</th>\n",
       "      <td>8</td>\n",
       "      <td>8</td>\n",
       "      <td>1021125568979447808</td>\n",
       "      <td>{'urls': [{'start': 124, 'end': 147, 'url': 'h...</td>\n",
       "      <td>1021125568979447808</td>\n",
       "      <td>25521305</td>\n",
       "      <td>{'place_id': '54e862bb3ff2f749'}</td>\n",
       "      <td>und</td>\n",
       "      <td>{'media_keys': ['3_1021125557914865664']}</td>\n",
       "      <td>{'retweet_count': 0, 'reply_count': 0, 'like_c...</td>\n",
       "      <td>#flowers #ATeam #weekend #downtime #luxurywedd...</td>\n",
       "      <td>2018-07-22T20:11:21.000Z</td>\n",
       "      <td>1021125568979447808</td>\n",
       "      <td>[{'domain': {'id': '13', 'name': 'Place', 'des...</td>\n",
       "      <td>flower ateam weekend downtime luxurywedde plan...</td>\n",
       "      <td>['flower', 'ateam', 'weekend', 'downtime', 'lu...</td>\n",
       "      <td>[beautiful]</td>\n",
       "    </tr>\n",
       "  </tbody>\n",
       "</table>\n",
       "</div>"
      ],
      "text/plain": [
       "   Unnamed: 0.1  Unnamed: 0                  _id  \\\n",
       "0             0           0   633029307275866112   \n",
       "1             1           1  1514874742750261251   \n",
       "5             5           5   632977045291724800   \n",
       "6             6           6   633031275843072001   \n",
       "8             8           8  1021125568979447808   \n",
       "\n",
       "                                            entities      conversation_id  \\\n",
       "0  {'hashtags': [{'start': 22, 'end': 28, 'tag': ...   633029307275866112   \n",
       "1  {'mentions': [{'start': 21, 'end': 36, 'userna...  1514874742750261251   \n",
       "5  {'urls': [{'start': 117, 'end': 139, 'url': 'h...   632977045291724800   \n",
       "6  {'hashtags': [{'start': 29, 'end': 35, 'tag': ...   633031275843072001   \n",
       "8  {'urls': [{'start': 124, 'end': 147, 'url': 'h...  1021125568979447808   \n",
       "\n",
       "    author_id                               geo lang  \\\n",
       "0  1448623789  {'place_id': '54e862bb3ff2f749'}   en   \n",
       "1    93829151  {'place_id': '54e862bb3ff2f749'}   en   \n",
       "5  1448623789  {'place_id': '54e862bb3ff2f749'}   en   \n",
       "6  1448623789  {'place_id': '54e862bb3ff2f749'}   en   \n",
       "8    25521305  {'place_id': '54e862bb3ff2f749'}  und   \n",
       "\n",
       "                                 attachments  \\\n",
       "0   {'media_keys': ['3_633029305400954880']}   \n",
       "1  {'media_keys': ['3_1514874728154120195']}   \n",
       "5   {'media_keys': ['3_632977044134080512']}   \n",
       "6   {'media_keys': ['3_633031274404388864']}   \n",
       "8  {'media_keys': ['3_1021125557914865664']}   \n",
       "\n",
       "                                      public_metrics  \\\n",
       "0  {'retweet_count': 2, 'reply_count': 0, 'like_c...   \n",
       "1  {'retweet_count': 7, 'reply_count': 0, 'like_c...   \n",
       "5  {'retweet_count': 0, 'reply_count': 0, 'like_c...   \n",
       "6  {'retweet_count': 1, 'reply_count': 0, 'like_c...   \n",
       "8  {'retweet_count': 0, 'reply_count': 0, 'like_c...   \n",
       "\n",
       "                                                text  \\\n",
       "0  Adare Farm supporting #Adare in #LimerickGoing...   \n",
       "1  Adare Manor team and @adaretidytowns ready for...   \n",
       "5  @Serendipityshoe asking for you to VOTE for #A...   \n",
       "6  The Village Fayre supporting #Adare by texting...   \n",
       "8  #flowers #ATeam #weekend #downtime #luxurywedd...   \n",
       "\n",
       "                 created_at                   id  \\\n",
       "0  2015-08-16T21:35:22.000Z   633029307275866112   \n",
       "1  2022-04-15T07:54:18.000Z  1514874742750261251   \n",
       "5  2015-08-16T18:07:42.000Z   632977045291724800   \n",
       "6  2015-08-16T21:43:11.000Z   633031275843072001   \n",
       "8  2018-07-22T20:11:21.000Z  1021125568979447808   \n",
       "\n",
       "                                 context_annotations  \\\n",
       "0                                                NaN   \n",
       "1                                                NaN   \n",
       "5  [{'domain': {'id': '19', 'name': 'Data Team Te...   \n",
       "6                                                NaN   \n",
       "8  [{'domain': {'id': '13', 'name': 'Place', 'des...   \n",
       "\n",
       "                                               text1  \\\n",
       "0  adare farm support adare limerickgoingforgold ...   \n",
       "1  adare manor team adaretidytown ready year s te...   \n",
       "5  serendipityshoe ask vote adare adaregoingforgo...   \n",
       "6  village fayre support adare texte gold adare n...   \n",
       "8  flower ateam weekend downtime luxurywedde plan...   \n",
       "\n",
       "                                               token        result  \n",
       "0  ['adare', 'farm', 'support', 'adare', 'limeric...        [gold]  \n",
       "1  ['adare', 'manor', 'team', 'adaretidytown', 'r...       [clean]  \n",
       "5  ['serendipityshoe', 'ask', 'vote', 'adare', 'a...  [gold, vote]  \n",
       "6  ['village', 'fayre', 'support', 'adare', 'text...        [gold]  \n",
       "8  ['flower', 'ateam', 'weekend', 'downtime', 'lu...   [beautiful]  "
      ]
     },
     "execution_count": 11,
     "metadata": {},
     "output_type": "execute_result"
    }
   ],
   "source": [
    "#Elimino le righe in cui la lista è vuota []\n",
    "#poichè il tweet non ha nessuna parola associata ad es alla lista positive\n",
    "\n",
    "df2 = df[df['result'].map(lambda d: len(d)) > 0]\n",
    "df2.head()"
   ]
  },
  {
   "cell_type": "code",
   "execution_count": 85,
   "metadata": {},
   "outputs": [],
   "source": [
    "df2.explode(\"result\").groupby(by=\"result\")[\"result\"].count().sort_values(ascending=False).head(25)#.plot(figsize=(10, 6), kind=\"barh\")"
   ]
  },
  {
   "cell_type": "markdown",
   "metadata": {},
   "source": [
    "# Tutto scritto in una funzione diventa :"
   ]
  },
  {
   "cell_type": "code",
   "execution_count": 95,
   "metadata": {},
   "outputs": [],
   "source": [
    "df_result = explode(df,positive_list)"
   ]
  },
  {
   "cell_type": "code",
   "execution_count": 96,
   "metadata": {},
   "outputs": [
    {
     "data": {
      "text/plain": [
       "<AxesSubplot:ylabel='result'>"
      ]
     },
     "execution_count": 96,
     "metadata": {},
     "output_type": "execute_result"
    },
    {
     "data": {
      "image/png": "[encoded data removed]",
      "text/plain": [
       "<Figure size 720x432 with 1 Axes>"
      ]
     },
     "metadata": {
      "needs_background": "light"
     },
     "output_type": "display_data"
    }
   ],
   "source": [
    "df_result.head(25).plot(figsize=(10, 6), kind=\"barh\")"
   ]
  },
  {
   "cell_type": "code",
   "execution_count": 91,
   "metadata": {},
   "outputs": [],
   "source": [
    "df_result2 = df_result.reset_index(name=\"count\")"
   ]
  },
  {
   "cell_type": "code",
   "execution_count": 92,
   "metadata": {},
   "outputs": [
    {
     "data": {
      "image/png": "[encoded data removed]",
      "text/plain": [
       "<Figure size 576x720 with 1 Axes>"
      ]
     },
     "metadata": {
      "needs_background": "light"
     },
     "output_type": "display_data"
    }
   ],
   "source": [
    "plt.figure(figsize=(8,10))\n",
    "sns.barplot(y= 'result', x = 'count', data = df_result2[0:25]) #stampo le prime 25 parole che mi danno sentiment positive\n",
    "plt.show()"
   ]
  },
  {
   "cell_type": "code",
   "execution_count": null,
   "metadata": {},
   "outputs": [],
   "source": []
  }
 ],
 "metadata": {
  "kernelspec": {
   "display_name": "Python 3.10.4 64-bit",
   "language": "python",
   "name": "python3"
  },
  "language_info": {
   "codemirror_mode": {
    "name": "ipython",
    "version": 3
   },
   "file_extension": ".py",
   "mimetype": "text/x-python",
   "name": "python",
   "nbconvert_exporter": "python",
   "pygments_lexer": "ipython3",
   "version": "3.10.4"
  },
  "orig_nbformat": 4,
  "vscode": {
   "interpreter": {
    "hash": "aee8b7b246df8f9039afb4144a1f6fd8d2ca17a180786b69acc140d282b71a49"
   }
  }
 },
 "nbformat": 4,
 "nbformat_minor": 2
}
