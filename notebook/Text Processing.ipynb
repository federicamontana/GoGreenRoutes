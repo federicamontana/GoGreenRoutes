{
 "cells": [
  {
   "cell_type": "code",
   "execution_count": 1,
   "metadata": {},
   "outputs": [],
   "source": [
    "import spacy\n",
    "nlp = spacy.load('en_core_web_sm')\n",
    "import re #library for regular expressions\n",
    "import pandas as pd\n",
    "from collections import Counter\n",
    "from string import punctuation \n",
    "import matplotlib.pyplot as plt\n",
    "import seaborn as sns\n",
    "from pathlib import Path  "
   ]
  },
  {
   "cell_type": "code",
   "execution_count": 2,
   "metadata": {},
   "outputs": [],
   "source": [
    "#Lettura dataframe\n",
    "df = pd.read_csv ('../dataframe/df.csv') #tweet con la geocalizzazione di limerick che contengono alcune parole dei parchi\n"
   ]
  },
  {
   "cell_type": "markdown",
   "metadata": {},
   "source": [
    "## Text cleaning "
   ]
  },
  {
   "cell_type": "code",
   "execution_count": 4,
   "metadata": {},
   "outputs": [
    {
     "data": {
      "text/html": [
       "<div>\n",
       "<style scoped>\n",
       "    .dataframe tbody tr th:only-of-type {\n",
       "        vertical-align: middle;\n",
       "    }\n",
       "\n",
       "    .dataframe tbody tr th {\n",
       "        vertical-align: top;\n",
       "    }\n",
       "\n",
       "    .dataframe thead th {\n",
       "        text-align: right;\n",
       "    }\n",
       "</style>\n",
       "<table border=\"1\" class=\"dataframe\">\n",
       "  <thead>\n",
       "    <tr style=\"text-align: right;\">\n",
       "      <th></th>\n",
       "      <th>_id</th>\n",
       "      <th>entities</th>\n",
       "      <th>conversation_id</th>\n",
       "      <th>author_id</th>\n",
       "      <th>geo</th>\n",
       "      <th>lang</th>\n",
       "      <th>attachments</th>\n",
       "      <th>public_metrics</th>\n",
       "      <th>text</th>\n",
       "      <th>created_at</th>\n",
       "      <th>id</th>\n",
       "      <th>context_annotations</th>\n",
       "      <th>text1</th>\n",
       "      <th>Polarity Score</th>\n",
       "      <th>Neutral Score</th>\n",
       "      <th>Negative Score</th>\n",
       "      <th>Positive Score</th>\n",
       "      <th>Sentiment</th>\n",
       "      <th>token</th>\n",
       "    </tr>\n",
       "  </thead>\n",
       "  <tbody>\n",
       "    <tr>\n",
       "      <th>0</th>\n",
       "      <td>633029307275866112</td>\n",
       "      <td>{'hashtags': [{'start': 22, 'end': 28, 'tag': ...</td>\n",
       "      <td>633029307275866112</td>\n",
       "      <td>1448623789</td>\n",
       "      <td>{'place_id': '54e862bb3ff2f749'}</td>\n",
       "      <td>en</td>\n",
       "      <td>{'media_keys': ['3_633029305400954880']}</td>\n",
       "      <td>{'retweet_count': 2, 'reply_count': 0, 'like_c...</td>\n",
       "      <td>Adare Farm supporting #Adare in #LimerickGoing...</td>\n",
       "      <td>2015-08-16T21:35:22.000Z</td>\n",
       "      <td>633029307275866112</td>\n",
       "      <td>NaN</td>\n",
       "      <td>adare farm support adare limerickgoingforgold ...</td>\n",
       "      <td>0.4019</td>\n",
       "      <td>0.816</td>\n",
       "      <td>0.0</td>\n",
       "      <td>0.184</td>\n",
       "      <td>Positive</td>\n",
       "      <td>['adare', 'farm', 'support', 'adare', 'limeric...</td>\n",
       "    </tr>\n",
       "    <tr>\n",
       "      <th>1</th>\n",
       "      <td>1514874742750261251</td>\n",
       "      <td>{'mentions': [{'start': 21, 'end': 36, 'userna...</td>\n",
       "      <td>1514874742750261251</td>\n",
       "      <td>93829151</td>\n",
       "      <td>{'place_id': '54e862bb3ff2f749'}</td>\n",
       "      <td>en</td>\n",
       "      <td>{'media_keys': ['3_1514874728154120195']}</td>\n",
       "      <td>{'retweet_count': 7, 'reply_count': 0, 'like_c...</td>\n",
       "      <td>Adare Manor team and @adaretidytowns ready for...</td>\n",
       "      <td>2022-04-15T07:54:18.000Z</td>\n",
       "      <td>1514874742750261251</td>\n",
       "      <td>NaN</td>\n",
       "      <td>adare manor team adaretidytown ready year team...</td>\n",
       "      <td>0.3612</td>\n",
       "      <td>0.828</td>\n",
       "      <td>0.0</td>\n",
       "      <td>0.172</td>\n",
       "      <td>Positive</td>\n",
       "      <td>['adare', 'manor', 'team', 'adaretidytown', 'r...</td>\n",
       "    </tr>\n",
       "    <tr>\n",
       "      <th>2</th>\n",
       "      <td>1038675384940810240</td>\n",
       "      <td>{'urls': [{'start': 205, 'end': 228, 'url': 'h...</td>\n",
       "      <td>1038675384940810240</td>\n",
       "      <td>1675222543</td>\n",
       "      <td>{'place_id': '54e862bb3ff2f749'}</td>\n",
       "      <td>en</td>\n",
       "      <td>{'media_keys': ['3_1038675357560451072']}</td>\n",
       "      <td>{'retweet_count': 0, 'reply_count': 0, 'like_c...</td>\n",
       "      <td>En Plein Air, Adare. Third placed submission b...</td>\n",
       "      <td>2018-09-09T06:28:04.000Z</td>\n",
       "      <td>1038675384940810240</td>\n",
       "      <td>[{'domain': {'id': '65', 'name': 'Interests an...</td>\n",
       "      <td>en plein air adare place submission tralee bas...</td>\n",
       "      <td>0.0000</td>\n",
       "      <td>1.000</td>\n",
       "      <td>0.0</td>\n",
       "      <td>0.000</td>\n",
       "      <td>Neutral</td>\n",
       "      <td>['en', 'plein', 'air', 'adare', 'place', 'subm...</td>\n",
       "    </tr>\n",
       "    <tr>\n",
       "      <th>3</th>\n",
       "      <td>866992354779070465</td>\n",
       "      <td>{'hashtags': [{'start': 64, 'end': 70, 'tag': ...</td>\n",
       "      <td>866992354779070465</td>\n",
       "      <td>202774289</td>\n",
       "      <td>{'place_id': '54e862bb3ff2f749'}</td>\n",
       "      <td>en</td>\n",
       "      <td>{'media_keys': ['3_866992337922256900']}</td>\n",
       "      <td>{'retweet_count': 2, 'reply_count': 0, 'like_c...</td>\n",
       "      <td>Adare Manor coming on every time I'm here ..wi...</td>\n",
       "      <td>2017-05-23T12:20:59.000Z</td>\n",
       "      <td>866992354779070465</td>\n",
       "      <td>NaN</td>\n",
       "      <td>adare manor come time I m course adare</td>\n",
       "      <td>0.0000</td>\n",
       "      <td>1.000</td>\n",
       "      <td>0.0</td>\n",
       "      <td>0.000</td>\n",
       "      <td>Neutral</td>\n",
       "      <td>['adare', 'manor', 'come', 'time', 'I', 'm', '...</td>\n",
       "    </tr>\n",
       "    <tr>\n",
       "      <th>4</th>\n",
       "      <td>508310526875942912</td>\n",
       "      <td>{'annotations': [{'start': 75, 'end': 91, 'pro...</td>\n",
       "      <td>508310526875942912</td>\n",
       "      <td>2355038665</td>\n",
       "      <td>{'place_id': '54e862bb3ff2f749'}</td>\n",
       "      <td>en</td>\n",
       "      <td>NaN</td>\n",
       "      <td>{'retweet_count': 0, 'reply_count': 0, 'like_c...</td>\n",
       "      <td>This creep keeps following me around... #adare...</td>\n",
       "      <td>2014-09-06T17:47:28.000Z</td>\n",
       "      <td>508310526875942912</td>\n",
       "      <td>NaN</td>\n",
       "      <td>creep keep follow adare roadtrip summerofdream...</td>\n",
       "      <td>0.0000</td>\n",
       "      <td>1.000</td>\n",
       "      <td>0.0</td>\n",
       "      <td>0.000</td>\n",
       "      <td>Neutral</td>\n",
       "      <td>['creep', 'keep', 'follow', 'adare', 'roadtrip...</td>\n",
       "    </tr>\n",
       "  </tbody>\n",
       "</table>\n",
       "</div>"
      ],
      "text/plain": [
       "                   _id                                           entities  \\\n",
       "0   633029307275866112  {'hashtags': [{'start': 22, 'end': 28, 'tag': ...   \n",
       "1  1514874742750261251  {'mentions': [{'start': 21, 'end': 36, 'userna...   \n",
       "2  1038675384940810240  {'urls': [{'start': 205, 'end': 228, 'url': 'h...   \n",
       "3   866992354779070465  {'hashtags': [{'start': 64, 'end': 70, 'tag': ...   \n",
       "4   508310526875942912  {'annotations': [{'start': 75, 'end': 91, 'pro...   \n",
       "\n",
       "       conversation_id   author_id                               geo lang  \\\n",
       "0   633029307275866112  1448623789  {'place_id': '54e862bb3ff2f749'}   en   \n",
       "1  1514874742750261251    93829151  {'place_id': '54e862bb3ff2f749'}   en   \n",
       "2  1038675384940810240  1675222543  {'place_id': '54e862bb3ff2f749'}   en   \n",
       "3   866992354779070465   202774289  {'place_id': '54e862bb3ff2f749'}   en   \n",
       "4   508310526875942912  2355038665  {'place_id': '54e862bb3ff2f749'}   en   \n",
       "\n",
       "                                 attachments  \\\n",
       "0   {'media_keys': ['3_633029305400954880']}   \n",
       "1  {'media_keys': ['3_1514874728154120195']}   \n",
       "2  {'media_keys': ['3_1038675357560451072']}   \n",
       "3   {'media_keys': ['3_866992337922256900']}   \n",
       "4                                        NaN   \n",
       "\n",
       "                                      public_metrics  \\\n",
       "0  {'retweet_count': 2, 'reply_count': 0, 'like_c...   \n",
       "1  {'retweet_count': 7, 'reply_count': 0, 'like_c...   \n",
       "2  {'retweet_count': 0, 'reply_count': 0, 'like_c...   \n",
       "3  {'retweet_count': 2, 'reply_count': 0, 'like_c...   \n",
       "4  {'retweet_count': 0, 'reply_count': 0, 'like_c...   \n",
       "\n",
       "                                                text  \\\n",
       "0  Adare Farm supporting #Adare in #LimerickGoing...   \n",
       "1  Adare Manor team and @adaretidytowns ready for...   \n",
       "2  En Plein Air, Adare. Third placed submission b...   \n",
       "3  Adare Manor coming on every time I'm here ..wi...   \n",
       "4  This creep keeps following me around... #adare...   \n",
       "\n",
       "                 created_at                   id  \\\n",
       "0  2015-08-16T21:35:22.000Z   633029307275866112   \n",
       "1  2022-04-15T07:54:18.000Z  1514874742750261251   \n",
       "2  2018-09-09T06:28:04.000Z  1038675384940810240   \n",
       "3  2017-05-23T12:20:59.000Z   866992354779070465   \n",
       "4  2014-09-06T17:47:28.000Z   508310526875942912   \n",
       "\n",
       "                                 context_annotations  \\\n",
       "0                                                NaN   \n",
       "1                                                NaN   \n",
       "2  [{'domain': {'id': '65', 'name': 'Interests an...   \n",
       "3                                                NaN   \n",
       "4                                                NaN   \n",
       "\n",
       "                                               text1  Polarity Score  \\\n",
       "0  adare farm support adare limerickgoingforgold ...          0.4019   \n",
       "1  adare manor team adaretidytown ready year team...          0.3612   \n",
       "2  en plein air adare place submission tralee bas...          0.0000   \n",
       "3             adare manor come time I m course adare          0.0000   \n",
       "4  creep keep follow adare roadtrip summerofdream...          0.0000   \n",
       "\n",
       "   Neutral Score  Negative Score  Positive Score Sentiment  \\\n",
       "0          0.816             0.0           0.184  Positive   \n",
       "1          0.828             0.0           0.172  Positive   \n",
       "2          1.000             0.0           0.000   Neutral   \n",
       "3          1.000             0.0           0.000   Neutral   \n",
       "4          1.000             0.0           0.000   Neutral   \n",
       "\n",
       "                                               token  \n",
       "0  ['adare', 'farm', 'support', 'adare', 'limeric...  \n",
       "1  ['adare', 'manor', 'team', 'adaretidytown', 'r...  \n",
       "2  ['en', 'plein', 'air', 'adare', 'place', 'subm...  \n",
       "3  ['adare', 'manor', 'come', 'time', 'I', 'm', '...  \n",
       "4  ['creep', 'keep', 'follow', 'adare', 'roadtrip...  "
      ]
     },
     "execution_count": 4,
     "metadata": {},
     "output_type": "execute_result"
    }
   ],
   "source": [
    "df.head()"
   ]
  },
  {
   "cell_type": "markdown",
   "metadata": {},
   "source": [
    "### Lower case\n"
   ]
  },
  {
   "cell_type": "code",
   "execution_count": 5,
   "metadata": {},
   "outputs": [
    {
     "data": {
      "text/plain": [
       "0    adare farm supporting #adare in #limerickgoing...\n",
       "1    adare manor team and @adaretidytowns ready for...\n",
       "2    en plein air, adare. third placed submission b...\n",
       "3    adare manor coming on every time i'm here ..wi...\n",
       "4    this creep keeps following me around... #adare...\n",
       "Name: text1, dtype: object"
      ]
     },
     "execution_count": 5,
     "metadata": {},
     "output_type": "execute_result"
    }
   ],
   "source": [
    "# Creation of a new text column called text1 with the first pre-processing step: lower case\n",
    "df['text1'] = df['text'].apply(lambda x: \" \".join(x.lower() for x in x.split()))\n",
    "df['text1'].head()"
   ]
  },
  {
   "cell_type": "markdown",
   "metadata": {},
   "source": [
    "#### Remove hyperlinks"
   ]
  },
  {
   "cell_type": "code",
   "execution_count": 6,
   "metadata": {},
   "outputs": [],
   "source": [
    "df['text1'] = [re.sub(r'https?:\\/\\/.\\S+', \"\", x) for x in df['text1']]"
   ]
  },
  {
   "cell_type": "markdown",
   "metadata": {},
   "source": [
    "#### Remove websites and email address"
   ]
  },
  {
   "cell_type": "code",
   "execution_count": 7,
   "metadata": {},
   "outputs": [],
   "source": [
    "df['text1'] = [re.sub(r\"\\S+com\", \"\", x) for x in df['text1']]\n",
    "df['text1'] = [re.sub(r\"\\S+@\\S+\", \"\", x) for x in df['text1']]"
   ]
  },
  {
   "cell_type": "markdown",
   "metadata": {},
   "source": [
    "#### Remove old style retweet text \"RT\""
   ]
  },
  {
   "cell_type": "code",
   "execution_count": 8,
   "metadata": {},
   "outputs": [],
   "source": [
    "df['text1'] = [re.sub(r'^rt[\\s]+', '', x) for x in df['text1']]"
   ]
  },
  {
   "cell_type": "markdown",
   "metadata": {},
   "source": [
    "#### Split attached words"
   ]
  },
  {
   "cell_type": "code",
   "execution_count": 9,
   "metadata": {},
   "outputs": [
    {
     "name": "stderr",
     "output_type": "stream",
     "text": [
      "/var/folders/v4/x4q9pqb51b90_dmhz4dg_5q40000gn/T/ipykernel_66930/3648482919.py:2: FutureWarning: The default value of regex will change from True to False in a future version.\n",
      "  df['text1'] = df['text1'].str.replace('[^\\w\\s]','')\n"
     ]
    },
    {
     "data": {
      "text/plain": [
       "0    adare farm supporting adare in limerickgoingfo...\n",
       "1    adare manor team and adaretidytowns ready for ...\n",
       "2    en plein air adare third placed submission by ...\n",
       "3    adare manor coming on every time im here will ...\n",
       "4    this creep keeps following me around adare roa...\n",
       "Name: text1, dtype: object"
      ]
     },
     "execution_count": 9,
     "metadata": {},
     "output_type": "execute_result"
    }
   ],
   "source": [
    "# Remove punctuations (anche hashtag, @)\n",
    "df['text1'] = df['text1'].str.replace('[^\\w\\s]','')\n",
    "df['text1'].head()"
   ]
  },
  {
   "cell_type": "markdown",
   "metadata": {},
   "source": [
    "#### Expanding Contractions"
   ]
  },
  {
   "cell_type": "markdown",
   "metadata": {},
   "source": [
    "Questo forse si puo' togliere perchè le contrazioni poi vanno via eliminando le stopwords (vedi dopo)"
   ]
  },
  {
   "cell_type": "code",
   "execution_count": 10,
   "metadata": {},
   "outputs": [],
   "source": [
    "# dictionary consisting of the contraction and the actual value\n",
    "apos_dict = {\"'s\":\" is\",\"n't\":\" not\",\"'m\":\" am\",\"'ll\":\" will\",\n",
    "           \"'d\":\" would\",\"'ve\":\" have\",\"'re\":\" are\"}\n",
    "# replace the contractions\n",
    "for key,value in apos_dict.items():\n",
    "    if key in df['text1']:\n",
    "        df['text1'] = df['text1'].replace(key,value)"
   ]
  },
  {
   "cell_type": "markdown",
   "metadata": {},
   "source": [
    "### Stopwords"
   ]
  },
  {
   "cell_type": "code",
   "execution_count": 11,
   "metadata": {},
   "outputs": [
    {
     "name": "stdout",
     "output_type": "stream",
     "text": [
      "326\n",
      "{'back', 'either', 'whatever', 'themselves', 'here', 'how', 'my', \"'d\", 'then', 'much', 'next', 'another', 'due', 'his', 'twelve', 'with', 'yourselves', 'hereafter', 'but', 'seems', 'first', 'on', 'had', 'mostly', 'all', 'something', 'cannot', 'two', 'is', 'off', 'anyhow', 'regarding', 'part', 'herein', 'yours', 'everywhere', 'me', 'itself', 'ca', 'side', 'why', 'might', 'have', 'hereby', 'be', 'into', 'sometime', 'whereas', 'an', 'namely', 'show', 'fifteen', 'should', 'seemed', '‘re', 'him', 'along', 'nor', 'under', 'somehow', 'across', '’d', 'herself', 'however', 'her', 'sometimes', 'moreover', 'has', '‘d', 'who', 'wherein', 'can', 'through', 'been', 'see', 'becomes', 'mine', 'unless', 'meanwhile', \"'ve\", 'ten', 'its', 'being', 'together', 'via', 'though', 'nobody', 'thence', 'various', 'get', 'none', 'only', '‘ve', 'last', 'thereby', 'noone', 'you', 'amongst', 'beforehand', 'beyond', 'five', 'used', 'ourselves', 'your', 'other', 'seeming', 'also', 'were', 'by', 'perhaps', 'every', 'thereupon', 'someone', 'hereupon', 'although', 'that', 'empty', 'as', 'if', 'nevertheless', 'in', 'those', 'no', '’m', 'to', 'whither', 'must', 'keep', 'doing', \"'re\", 'amount', 'each', 'some', 'against', 'become', 'already', 'four', 'too', 'out', 'until', 'otherwise', 'of', 'eight', 'alone', 'us', '‘m', 'go', 'i', 'enough', 'toward', 'whence', 'forty', 'while', 'hundred', 'becoming', 'name', 'always', 'never', 'thereafter', 'onto', 'above', 'seem', 'whole', 'from', 'anyone', 'once', 'everyone', 'nine', 'yet', '’ll', 'therefore', 'whoever', 'few', 'give', 'twenty', 'thus', 'per', 'do', 'about', 'throughout', 'using', 'behind', 'very', 'indeed', 'well', 'done', 'say', 'down', 'such', 'quite', 'beside', 'six', 'made', 'could', 'again', 'whereby', 'than', 'was', 'would', 'before', 'afterwards', 'less', 'front', 'became', 'they', 'ever', 'the', 'please', 'several', 'nowhere', 'myself', 'hence', 'many', 'most', 'ours', 'one', 'more', 'over', 'full', 'rather', 'besides', '’s', 'whether', 'elsewhere', 'any', 'when', '‘s', '‘ll', 'anything', 'upon', 'thru', 'during', 'hers', 'anyway', 'neither', \"n't\", 'up', 'within', 'she', 'almost', 'bottom', \"'ll\", 'there', 'so', 'same', 'yourself', 're', 'latterly', 'what', 'this', 'may', 'nothing', 'towards', 'did', 'formerly', 'where', 'since', 'often', '’re', 'at', 'further', 'still', 'three', 'put', 'and', 'wherever', 'others', 'sixty', 'which', 'because', 'whenever', '’ve', 'not', \"'s\", 'except', 'fifty', 'therein', 'even', 'will', 'take', 'for', 'he', 'n‘t', 'does', 'after', 'n’t', 'whom', 'serious', 'whereafter', 'eleven', 'a', 'really', 'our', 'somewhere', 'are', 'call', 'both', 'latter', 'third', 'their', 'among', 'whose', \"'m\", 'between', 'make', 'top', 'below', 'we', 'now', 'just', 'without', 'everything', 'least', 'these', 'whereupon', 'them', 'former', 'else', 'own', 'anywhere', 'or', 'am', 'move', 'himself', 'it', 'around'}\n"
     ]
    }
   ],
   "source": [
    "# The next step is to remove the useless words, namely, the stopwords. Stopwords are words that frequently appear in many articles,\n",
    "# but without significant meanings. Examples of stopwords are ‘I’, ‘the’, ‘a’, ‘of’.\n",
    "# spacy stopwords\n",
    "stopwords = nlp.Defaults.stop_words\n",
    "print(len(stopwords)) # 326\n",
    "print(stopwords)"
   ]
  },
  {
   "cell_type": "code",
   "execution_count": 12,
   "metadata": {},
   "outputs": [],
   "source": [
    "# exclude the stopwords from the text\n",
    "df['text1'] = df['text1'].apply(lambda x: \" \".join(x for x in x.split() if x not in stopwords))"
   ]
  },
  {
   "cell_type": "markdown",
   "metadata": {},
   "source": [
    "### Lemmatization"
   ]
  },
  {
   "cell_type": "markdown",
   "metadata": {},
   "source": [
    "Another way of converting words to its original form is called stemming.\n",
    "Lemmatization is taking a word into its original lemma, and stemming is taking the linguistic root of a word."
   ]
  },
  {
   "cell_type": "code",
   "execution_count": 13,
   "metadata": {},
   "outputs": [],
   "source": [
    "def space(tweet):\n",
    "    doc = nlp(tweet)\n",
    "    return \" \".join([token.lemma_ for token in doc])\n",
    "df['text1'] = df['text1'].apply(space)"
   ]
  },
  {
   "cell_type": "markdown",
   "metadata": {},
   "source": [
    "## Check which are the most common words"
   ]
  },
  {
   "cell_type": "code",
   "execution_count": 14,
   "metadata": {},
   "outputs": [],
   "source": [
    "# token dividen\n",
    "token_ = [i.split() for i in df[\"text1\"]]\n",
    "# token joined in one list \n",
    "#remove words with lenght < 3 and puntctuations !\"#$%&'()*+,-./:;<=>?@[\\]^_`{|}~\n",
    "tokens = [item for sublist in token_ for item in sublist if len(item) > 3 and item not in punctuation]"
   ]
  },
  {
   "cell_type": "code",
   "execution_count": 18,
   "metadata": {},
   "outputs": [
    {
     "name": "stdout",
     "output_type": "stream",
     "text": [
      "\n",
      "OK. The 25 most common words are as follows\n",
      "\n",
      "limerick :  980\n",
      "adare :  340\n",
      "park :  300\n",
      "shannon :  277\n",
      "ireland :  121\n",
      "today :  109\n",
      "river :  109\n",
      "nature :  97\n",
      "city :  92\n",
      "ballyhoura :  89\n",
      "walk :  83\n",
      "great :  75\n",
      "thomond :  71\n",
      "time :  68\n",
      "people :  67\n",
      "lovelimerick :  61\n",
      "morning :  56\n",
      "hurl :  50\n",
      "limerickcouncil :  46\n",
      "ilovelimerick :  45\n",
      "beautiful :  44\n",
      "good :  44\n",
      "limerick_ie :  44\n",
      "final :  42\n",
      "look :  42\n"
     ]
    }
   ],
   "source": [
    "# Print most common word\n",
    "n_print = int(input(\"How many most common words to print: \"))\n",
    "print(\"\\nOK. The {} most common words are as follows\\n\".format(n_print))\n",
    "word_counter = Counter(tokens)\n",
    "for word, count in word_counter.most_common(n_print):\n",
    "    print(word, \": \", count)"
   ]
  },
  {
   "cell_type": "code",
   "execution_count": 16,
   "metadata": {},
   "outputs": [],
   "source": [
    "# Create a data frame of the most common words \n",
    "lst = word_counter.most_common(n_print)\n",
    "df_most_common = pd.DataFrame(lst, columns = ['Word', 'Count'])"
   ]
  },
  {
   "cell_type": "code",
   "execution_count": 17,
   "metadata": {},
   "outputs": [
    {
     "data": {
      "image/png": "[encoded data removed]",
      "text/plain": [
       "<Figure size 576x720 with 1 Axes>"
      ]
     },
     "metadata": {
      "needs_background": "light"
     },
     "output_type": "display_data"
    }
   ],
   "source": [
    "# Draw a bar chart dropping limerick \n",
    "plt.figure(figsize=(8,10))\n",
    "sns.barplot(y= 'Word', x = 'Count', data = df_most_common.drop([0,1]))\n",
    "plt.show()"
   ]
  },
  {
   "cell_type": "markdown",
   "metadata": {},
   "source": [
    "Save the cleaned dataframe\n"
   ]
  },
  {
   "cell_type": "code",
   "execution_count": 20,
   "metadata": {},
   "outputs": [],
   "source": [
    "filepath = Path('../dataframe/dfc.csv')  \n",
    "filepath.parent.mkdir(parents=True, exist_ok=True)  \n",
    "df.to_csv(filepath) "
   ]
  },
  {
   "cell_type": "code",
   "execution_count": null,
   "metadata": {},
   "outputs": [],
   "source": []
  }
 ],
 "metadata": {
  "kernelspec": {
   "display_name": "Python 3.10.4 64-bit",
   "language": "python",
   "name": "python3"
  },
  "language_info": {
   "codemirror_mode": {
    "name": "ipython",
    "version": 3
   },
   "file_extension": ".py",
   "mimetype": "text/x-python",
   "name": "python",
   "nbconvert_exporter": "python",
   "pygments_lexer": "ipython3",
   "version": "3.10.4"
  },
  "orig_nbformat": 4,
  "vscode": {
   "interpreter": {
    "hash": "aee8b7b246df8f9039afb4144a1f6fd8d2ca17a180786b69acc140d282b71a49"
   }
  }
 },
 "nbformat": 4,
 "nbformat_minor": 2
}
