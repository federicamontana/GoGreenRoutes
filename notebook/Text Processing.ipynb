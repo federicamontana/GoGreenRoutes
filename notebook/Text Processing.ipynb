{
 "cells": [
  {
   "cell_type": "code",
   "execution_count": 5,
   "metadata": {},
   "outputs": [],
   "source": [
    "import spacy\n",
    "nlp = spacy.load('en_core_web_sm')\n",
    "import re #library for regular expressions\n",
    "import pandas as pd\n",
    "from collections import Counter\n",
    "from string import punctuation \n",
    "import matplotlib.pyplot as plt\n",
    "import seaborn as sns\n",
    "from pathlib import Path  "
   ]
  },
  {
   "cell_type": "code",
   "execution_count": 6,
   "metadata": {},
   "outputs": [],
   "source": [
    "#Lettura dataframe\n",
    "df = pd.read_csv ('../dataframe/df_complete.csv') #tweet con la geocalizzazione di limerick che contengono alcune parole dei parchi\n"
   ]
  },
  {
   "cell_type": "markdown",
   "metadata": {},
   "source": [
    "## Text cleaning "
   ]
  },
  {
   "cell_type": "code",
<<<<<<< HEAD
   "execution_count": 3,
=======
   "execution_count": 7,
>>>>>>> f42e2f160dbaa16179170b5376ac900abbe0d121
   "metadata": {},
   "outputs": [
    {
     "data": {
      "text/html": [
       "<div>\n",
       "<style scoped>\n",
       "    .dataframe tbody tr th:only-of-type {\n",
       "        vertical-align: middle;\n",
       "    }\n",
       "\n",
       "    .dataframe tbody tr th {\n",
       "        vertical-align: top;\n",
       "    }\n",
       "\n",
       "    .dataframe thead th {\n",
       "        text-align: right;\n",
       "    }\n",
       "</style>\n",
       "<table border=\"1\" class=\"dataframe\">\n",
       "  <thead>\n",
       "    <tr style=\"text-align: right;\">\n",
       "      <th></th>\n",
       "      <th>Unnamed: 0</th>\n",
       "      <th>_id</th>\n",
       "      <th>entities</th>\n",
       "      <th>conversation_id</th>\n",
       "      <th>author_id</th>\n",
       "      <th>geo</th>\n",
       "      <th>lang</th>\n",
       "      <th>attachments</th>\n",
       "      <th>public_metrics</th>\n",
       "      <th>text</th>\n",
       "      <th>created_at</th>\n",
       "      <th>id</th>\n",
       "      <th>context_annotations</th>\n",
       "    </tr>\n",
       "  </thead>\n",
       "  <tbody>\n",
       "    <tr>\n",
       "      <th>0</th>\n",
       "      <td>0</td>\n",
       "      <td>633029307275866112</td>\n",
       "      <td>{'hashtags': [{'start': 22, 'end': 28, 'tag': ...</td>\n",
       "      <td>633029307275866112</td>\n",
       "      <td>1448623789</td>\n",
       "      <td>{'place_id': '54e862bb3ff2f749'}</td>\n",
       "      <td>en</td>\n",
       "      <td>{'media_keys': ['3_633029305400954880']}</td>\n",
       "      <td>{'retweet_count': 2, 'reply_count': 0, 'like_c...</td>\n",
       "      <td>Adare Farm supporting #Adare in #LimerickGoing...</td>\n",
       "      <td>2015-08-16T21:35:22.000Z</td>\n",
       "      <td>633029307275866112</td>\n",
       "      <td>NaN</td>\n",
       "    </tr>\n",
       "    <tr>\n",
       "      <th>1</th>\n",
       "      <td>1</td>\n",
       "      <td>1514874742750261251</td>\n",
       "      <td>{'mentions': [{'start': 21, 'end': 36, 'userna...</td>\n",
       "      <td>1514874742750261251</td>\n",
       "      <td>93829151</td>\n",
       "      <td>{'place_id': '54e862bb3ff2f749'}</td>\n",
       "      <td>en</td>\n",
       "      <td>{'media_keys': ['3_1514874728154120195']}</td>\n",
       "      <td>{'retweet_count': 7, 'reply_count': 0, 'like_c...</td>\n",
       "      <td>Adare Manor team and @adaretidytowns ready for...</td>\n",
       "      <td>2022-04-15T07:54:18.000Z</td>\n",
       "      <td>1514874742750261251</td>\n",
       "      <td>NaN</td>\n",
       "    </tr>\n",
       "    <tr>\n",
       "      <th>2</th>\n",
       "      <td>2</td>\n",
       "      <td>1038675384940810240</td>\n",
       "      <td>{'urls': [{'start': 205, 'end': 228, 'url': 'h...</td>\n",
       "      <td>1038675384940810240</td>\n",
       "      <td>1675222543</td>\n",
       "      <td>{'place_id': '54e862bb3ff2f749'}</td>\n",
       "      <td>en</td>\n",
       "      <td>{'media_keys': ['3_1038675357560451072']}</td>\n",
       "      <td>{'retweet_count': 0, 'reply_count': 0, 'like_c...</td>\n",
       "      <td>En Plein Air, Adare. Third placed submission b...</td>\n",
       "      <td>2018-09-09T06:28:04.000Z</td>\n",
       "      <td>1038675384940810240</td>\n",
       "      <td>[{'domain': {'id': '65', 'name': 'Interests an...</td>\n",
       "    </tr>\n",
       "    <tr>\n",
       "      <th>3</th>\n",
       "      <td>3</td>\n",
       "      <td>866992354779070465</td>\n",
       "      <td>{'hashtags': [{'start': 64, 'end': 70, 'tag': ...</td>\n",
       "      <td>866992354779070465</td>\n",
       "      <td>202774289</td>\n",
       "      <td>{'place_id': '54e862bb3ff2f749'}</td>\n",
       "      <td>en</td>\n",
       "      <td>{'media_keys': ['3_866992337922256900']}</td>\n",
       "      <td>{'retweet_count': 2, 'reply_count': 0, 'like_c...</td>\n",
       "      <td>Adare Manor coming on every time I'm here ..wi...</td>\n",
       "      <td>2017-05-23T12:20:59.000Z</td>\n",
       "      <td>866992354779070465</td>\n",
       "      <td>NaN</td>\n",
       "    </tr>\n",
       "    <tr>\n",
       "      <th>4</th>\n",
       "      <td>4</td>\n",
       "      <td>508310526875942912</td>\n",
       "      <td>{'annotations': [{'start': 75, 'end': 91, 'pro...</td>\n",
       "      <td>508310526875942912</td>\n",
       "      <td>2355038665</td>\n",
       "      <td>{'place_id': '54e862bb3ff2f749'}</td>\n",
       "      <td>en</td>\n",
       "      <td>NaN</td>\n",
       "      <td>{'retweet_count': 0, 'reply_count': 0, 'like_c...</td>\n",
       "      <td>This creep keeps following me around... #adare...</td>\n",
       "      <td>2014-09-06T17:47:28.000Z</td>\n",
       "      <td>508310526875942912</td>\n",
       "      <td>NaN</td>\n",
       "    </tr>\n",
       "  </tbody>\n",
       "</table>\n",
       "</div>"
      ],
      "text/plain": [
       "   Unnamed: 0                  _id  \\\n",
       "0           0   633029307275866112   \n",
       "1           1  1514874742750261251   \n",
       "2           2  1038675384940810240   \n",
       "3           3   866992354779070465   \n",
       "4           4   508310526875942912   \n",
       "\n",
       "                                            entities      conversation_id  \\\n",
       "0  {'hashtags': [{'start': 22, 'end': 28, 'tag': ...   633029307275866112   \n",
       "1  {'mentions': [{'start': 21, 'end': 36, 'userna...  1514874742750261251   \n",
       "2  {'urls': [{'start': 205, 'end': 228, 'url': 'h...  1038675384940810240   \n",
       "3  {'hashtags': [{'start': 64, 'end': 70, 'tag': ...   866992354779070465   \n",
       "4  {'annotations': [{'start': 75, 'end': 91, 'pro...   508310526875942912   \n",
       "\n",
       "    author_id                               geo lang  \\\n",
       "0  1448623789  {'place_id': '54e862bb3ff2f749'}   en   \n",
       "1    93829151  {'place_id': '54e862bb3ff2f749'}   en   \n",
       "2  1675222543  {'place_id': '54e862bb3ff2f749'}   en   \n",
       "3   202774289  {'place_id': '54e862bb3ff2f749'}   en   \n",
       "4  2355038665  {'place_id': '54e862bb3ff2f749'}   en   \n",
       "\n",
       "                                 attachments  \\\n",
       "0   {'media_keys': ['3_633029305400954880']}   \n",
       "1  {'media_keys': ['3_1514874728154120195']}   \n",
       "2  {'media_keys': ['3_1038675357560451072']}   \n",
       "3   {'media_keys': ['3_866992337922256900']}   \n",
       "4                                        NaN   \n",
       "\n",
       "                                      public_metrics  \\\n",
       "0  {'retweet_count': 2, 'reply_count': 0, 'like_c...   \n",
       "1  {'retweet_count': 7, 'reply_count': 0, 'like_c...   \n",
       "2  {'retweet_count': 0, 'reply_count': 0, 'like_c...   \n",
       "3  {'retweet_count': 2, 'reply_count': 0, 'like_c...   \n",
       "4  {'retweet_count': 0, 'reply_count': 0, 'like_c...   \n",
       "\n",
       "                                                text  \\\n",
       "0  Adare Farm supporting #Adare in #LimerickGoing...   \n",
       "1  Adare Manor team and @adaretidytowns ready for...   \n",
       "2  En Plein Air, Adare. Third placed submission b...   \n",
       "3  Adare Manor coming on every time I'm here ..wi...   \n",
       "4  This creep keeps following me around... #adare...   \n",
       "\n",
       "                 created_at                   id  \\\n",
       "0  2015-08-16T21:35:22.000Z   633029307275866112   \n",
       "1  2022-04-15T07:54:18.000Z  1514874742750261251   \n",
       "2  2018-09-09T06:28:04.000Z  1038675384940810240   \n",
       "3  2017-05-23T12:20:59.000Z   866992354779070465   \n",
       "4  2014-09-06T17:47:28.000Z   508310526875942912   \n",
       "\n",
       "                                 context_annotations  \n",
       "0                                                NaN  \n",
       "1                                                NaN  \n",
       "2  [{'domain': {'id': '65', 'name': 'Interests an...  \n",
       "3                                                NaN  \n",
       "4                                                NaN  "
      ]
     },
<<<<<<< HEAD
     "execution_count": 3,
=======
     "execution_count": 7,
>>>>>>> f42e2f160dbaa16179170b5376ac900abbe0d121
     "metadata": {},
     "output_type": "execute_result"
    }
   ],
   "source": [
    "df.head()"
   ]
  },
  {
   "cell_type": "markdown",
   "metadata": {},
   "source": [
    "### Lower case\n"
   ]
  },
  {
   "cell_type": "code",
<<<<<<< HEAD
   "execution_count": 4,
=======
   "execution_count": 8,
>>>>>>> f42e2f160dbaa16179170b5376ac900abbe0d121
   "metadata": {},
   "outputs": [
    {
     "data": {
      "text/plain": [
       "0    adare farm supporting #adare in #limerickgoing...\n",
       "1    adare manor team and @adaretidytowns ready for...\n",
       "2    en plein air, adare. third placed submission b...\n",
       "3    adare manor coming on every time i'm here ..wi...\n",
       "4    this creep keeps following me around... #adare...\n",
       "Name: text1, dtype: object"
      ]
     },
<<<<<<< HEAD
     "execution_count": 4,
=======
     "execution_count": 8,
>>>>>>> f42e2f160dbaa16179170b5376ac900abbe0d121
     "metadata": {},
     "output_type": "execute_result"
    }
   ],
   "source": [
    "# Creation of a new text column called text1 with the first pre-processing step: lower case\n",
    "df['text1'] = df['text'].apply(lambda x: \" \".join(x.lower() for x in x.split()))\n",
    "df['text1'].head()"
   ]
  },
  {
   "cell_type": "markdown",
   "metadata": {},
   "source": [
    "#### Remove hyperlinks"
   ]
  },
  {
   "cell_type": "code",
<<<<<<< HEAD
   "execution_count": 5,
=======
   "execution_count": 9,
>>>>>>> f42e2f160dbaa16179170b5376ac900abbe0d121
   "metadata": {},
   "outputs": [],
   "source": [
    "df['text1'] = [re.sub(r'https?:\\/\\/.\\S+', \"\", x) for x in df['text1']]"
   ]
  },
  {
   "cell_type": "markdown",
   "metadata": {},
   "source": [
    "#### Remove websites and email address"
   ]
  },
  {
   "cell_type": "code",
<<<<<<< HEAD
   "execution_count": 6,
=======
   "execution_count": 10,
>>>>>>> f42e2f160dbaa16179170b5376ac900abbe0d121
   "metadata": {},
   "outputs": [],
   "source": [
    "df['text1'] = [re.sub(r\"\\S+com\", \"\", x) for x in df['text1']]\n",
    "df['text1'] = [re.sub(r\"\\S+@\\S+\", \"\", x) for x in df['text1']]"
   ]
  },
  {
   "cell_type": "markdown",
   "metadata": {},
   "source": [
    "#### Remove old style retweet text \"RT\""
   ]
  },
  {
   "cell_type": "code",
<<<<<<< HEAD
   "execution_count": 7,
=======
   "execution_count": 11,
>>>>>>> f42e2f160dbaa16179170b5376ac900abbe0d121
   "metadata": {},
   "outputs": [],
   "source": [
    "df['text1'] = [re.sub(r'^rt[\\s]+', '', x) for x in df['text1']]"
   ]
  },
  {
   "cell_type": "markdown",
   "metadata": {},
   "source": [
    "#### Remove punctuations"
   ]
  },
  {
   "cell_type": "code",
<<<<<<< HEAD
   "execution_count": 8,
   "metadata": {},
   "outputs": [
    {
     "name": "stderr",
     "output_type": "stream",
     "text": [
      "/var/folders/v4/x4q9pqb51b90_dmhz4dg_5q40000gn/T/ipykernel_88589/3648482919.py:2: FutureWarning: The default value of regex will change from True to False in a future version.\n",
      "  df['text1'] = df['text1'].str.replace('[^\\w\\s]','')\n"
     ]
    },
    {
=======
   "execution_count": 12,
   "metadata": {},
   "outputs": [
    {
>>>>>>> f42e2f160dbaa16179170b5376ac900abbe0d121
     "data": {
      "text/plain": [
       "0        adare farm supporting  adare in  limerickgoing...\n",
       "1        adare manor team and  adaretidytowns ready for...\n",
       "2        en plein air  adare  third placed submission b...\n",
       "3        adare manor coming on every time i m here   wi...\n",
       "4        this creep keeps following me around     adare...\n",
       "                               ...                        \n",
       "26891    tara cottage offers the perfect setting for ex...\n",
       "26892    the winners of the  tlc limerick competition h...\n",
       "26893    steve cunneen  engineer by trade  alchemist by...\n",
       "26894     yvonneryf just might be right    leaving thes...\n",
       "26895    perfect excuse for me to get my runners on and...\n",
       "Name: text1, Length: 26896, dtype: object"
      ]
     },
<<<<<<< HEAD
     "execution_count": 8,
=======
     "execution_count": 12,
>>>>>>> f42e2f160dbaa16179170b5376ac900abbe0d121
     "metadata": {},
     "output_type": "execute_result"
    }
   ],
   "source": [
    "# Remove punctuations (anche hashtag, @)\n",
    "df['text1'] =[re.sub(\"[\\W_]\", ' ', x) for x in df['text1']]\n",
    "df['text1']"
   ]
  },
  {
   "cell_type": "markdown",
   "metadata": {},
   "source": [
    "#### Remove numbers"
   ]
  },
  {
   "cell_type": "code",
   "execution_count": 13,
   "metadata": {},
   "outputs": [],
   "source": [
    "df['text1'] =[re.sub(\"\\d+\", \"\", x) for x in df['text1']]"
   ]
  },
  {
   "cell_type": "markdown",
   "metadata": {},
   "source": [
    "#### Expanding Contractions"
   ]
  },
  {
   "cell_type": "markdown",
   "metadata": {},
   "source": [
    "Questo forse si puo' togliere perchè le contrazioni poi vanno via eliminando le stopwords (vedi dopo)"
   ]
  },
  {
   "cell_type": "code",
<<<<<<< HEAD
   "execution_count": 9,
=======
   "execution_count": 14,
>>>>>>> f42e2f160dbaa16179170b5376ac900abbe0d121
   "metadata": {},
   "outputs": [],
   "source": [
    "# dictionary consisting of the contraction and the actual value\n",
    "apos_dict = {\"'s\":\" is\",\"n't\":\" not\",\"'m\":\" am\",\"'ll\":\" will\",\n",
    "           \"'d\":\" would\",\"'ve\":\" have\",\"'re\":\" are\"}\n",
    "# replace the contractions\n",
    "for key,value in apos_dict.items():\n",
    "    if key in df['text1']:\n",
    "        df['text1'] = df['text1'].replace(key,value)"
   ]
  },
  {
   "cell_type": "markdown",
   "metadata": {},
   "source": [
    "### Stopwords"
   ]
  },
  {
   "cell_type": "code",
<<<<<<< HEAD
   "execution_count": 10,
=======
   "execution_count": 15,
>>>>>>> f42e2f160dbaa16179170b5376ac900abbe0d121
   "metadata": {},
   "outputs": [
    {
     "name": "stdout",
     "output_type": "stream",
     "text": [
      "326\n",
<<<<<<< HEAD
      "{'regarding', 'due', 'while', 'towards', 'afterwards', 'twelve', 'along', \"n't\", 'nevertheless', 'top', 'beyond', 'how', 'here', 'something', 'latter', 'whole', 'anyone', 'wherever', 'hers', 'about', 'whence', 'very', 'seem', 'wherein', 'those', 'because', 'per', 'thereby', 'within', 'done', 'move', 'their', 'whereas', 'or', 'used', 'nor', 'in', 'upon', 'except', '‘m', 'from', 'various', '‘ll', 'twenty', 'she', 'front', 'into', 'this', \"'ll\", 'much', '‘s', 'below', 'serious', 'always', 'until', 'the', 'still', 'thereafter', 'noone', 'ca', 'together', 'n’t', 'i', 'most', 'ever', 'mostly', 'an', 'no', 'him', 'ours', 'none', 'whenever', 'thence', 'empty', \"'re\", 'enough', 'yourself', 'therefore', 'same', 'by', 'hundred', 'yourselves', 'many', 'has', 'several', 'whereupon', 'formerly', 'less', 'few', 'make', 'through', 'well', 'themselves', 'somewhere', 'your', 'everything', 'will', 'have', 'after', 'became', 'perhaps', 'who', 'fifty', 'moreover', 'such', 'another', 'hence', 'its', 'name', 'besides', 'throughout', 'if', '’d', 'might', 'these', 'say', 'we', 'against', 'seeming', 'however', 'therein', 'third', 'once', 'nowhere', 'hereby', 'mine', 'over', 'hereupon', 'my', 'sometimes', 'becomes', 'others', 'really', 'only', 'whereafter', 'should', 'does', 'though', 'sixty', 'some', 'that', 'whereby', 'where', 'every', 'but', 'thru', '’s', 'be', 'and', 'further', 'was', 'is', 'our', 'before', 'seems', 'n‘t', 'what', 'whom', 'cannot', 'put', '’ll', 'doing', 'us', 'although', '’re', '‘re', 'call', 'with', 'ourselves', 'were', 'without', 'six', 'show', 'would', 'may', 'last', \"'d\", 'part', 'whither', 'had', 'been', 'above', 'as', 'yours', 'whether', 'he', 'hereafter', 'keep', 'himself', 'now', 'take', \"'m\", 'back', 'thus', 'quite', 'full', 'whose', 'then', 'either', 'anyway', 'otherwise', 'during', 'whoever', 'anywhere', 'when', 'fifteen', 'unless', 'amount', 'onto', 'nine', 'already', 'using', 'also', 'bottom', 'own', 'a', 'do', 'give', 'anyhow', 'any', 'out', 'via', 're', 'namely', 'too', 'there', 'behind', 'since', \"'ve\", 'somehow', 'than', 'three', 'someone', 'first', 'nobody', 'never', 'please', 'toward', 'anything', 'his', 'more', 'else', 'them', 'of', 'often', 'up', 'which', 'ten', 'can', 'least', 'one', 'amongst', 'becoming', 'down', 'why', '‘d', 'everyone', 'whatever', 'beside', 'at', 'sometime', 'it', 'beforehand', 'you', 'again', 'alone', 'to', 'next', '‘ve', 'between', 'elsewhere', 'neither', 'nothing', 'must', 'her', 'are', 'among', 'five', 'forty', 'being', 'could', 'become', 'myself', 'they', 'each', 'yet', 'rather', 'am', 'me', 'so', 'latterly', 'four', 'did', 'around', 'go', 'eleven', 'thereupon', '’ve', 'both', 'eight', 'side', 'across', 'made', 'other', 'herein', 'just', 'herself', 'two', 'see', 'all', 'former', \"'s\", 'indeed', 'meanwhile', 'under', 'even', 'itself', 'everywhere', 'not', 'on', 'off', '’m', 'get', 'almost', 'for', 'seemed'}\n"
=======
      "{'its', 'otherwise', 'whoever', 'done', 'thru', 'have', \"'ve\", 'sometime', '’re', 'former', 'around', 'although', 'three', 'whereupon', 'least', 'meanwhile', '’ve', 'your', 'thereby', 'and', '’m', '’ll', 'amount', 'well', 'several', 'next', 'some', '‘d', 'on', 'he', 'towards', 'empty', 'latterly', 'anywhere', 'further', 'part', 'beforehand', 'us', 'two', 'less', 'over', 'could', 'twelve', 'used', 'first', 'side', 'whence', 'but', 'perhaps', 'yourself', 'anyhow', 'almost', 'an', '‘m', 'other', 'go', 'what', 'than', 'back', 'whether', 'n‘t', 'thereupon', 'against', 'she', 'four', 'others', 'with', 'eight', 'herself', 'within', 'mostly', 'whither', 'few', 'of', 'without', 'enough', 'where', 'someone', 'serious', 'every', 'nothing', 'put', 'no', 'nowhere', \"'m\", 'above', '’d', 'call', 'elsewhere', 'afterwards', 'between', 'toward', 'therefore', 'such', 'do', 'ten', 'alone', 'thereafter', 'will', 'top', 'very', 'though', 'show', 'these', 'became', 'yourselves', 'one', '‘ve', 'you', 'their', 'her', 'never', 'in', 'therein', 'any', 'indeed', 'just', 'last', 'get', 'not', 'after', 'through', 'across', 'whose', 'per', 'by', 'hereafter', 'hence', 'unless', 'nevertheless', 'quite', 'hereby', 'latter', 'am', 'under', 'must', 'why', 'him', 'throughout', 'made', 'moreover', 'can', 'name', 'whom', 'about', 'seemed', 'eleven', 'cannot', 'fifty', \"'ll\", 'or', 'doing', 'formerly', 'see', 'wherever', 'which', 'that', 'since', 'himself', 'becomes', 'behind', 'should', 'all', 'beside', '‘re', \"n't\", 'was', 'might', 'to', 'sometimes', 'when', 'forty', 'everywhere', 'during', 'namely', 'down', 'whatever', 'ever', 'once', 'front', 'from', 'twenty', 'neither', 'nobody', 'keep', 'off', 'itself', 'take', 'myself', 'however', 'five', '‘ll', 'n’t', 'here', 'again', 'mine', 'give', 'become', 'hundred', 'seems', 'up', 'make', 'nor', 'then', 'being', 'so', 'always', 'who', 'much', 'yours', 'along', 'at', 'if', 'me', 'themselves', 'them', 'there', 'been', 'rather', 'among', 'out', 'too', 'various', 'thus', 'third', 'while', 'does', 'whenever', 'amongst', 'hereupon', 'whereas', 'it', 'may', 'our', 'yet', 'for', 'even', 'herein', 'how', 'anyone', 'more', 'as', 'ca', \"'s\", 'this', 'those', 'bottom', 'somehow', 'another', 'before', 'together', 'his', 'besides', 'except', 'would', 'please', 'thence', 'is', 'ours', 'whereafter', 'really', 'everything', 'none', 'only', 'everyone', 'most', 'seeming', 'ourselves', 'whole', 'onto', 'beyond', 'using', 'six', 'nine', 'now', 'both', 'also', 'somewhere', 'my', 'because', 'else', 'anyway', 'each', '’s', 'fifteen', 'regarding', 'seem', 'still', 'move', 'full', 'many', 'be', 'did', 'whereby', '‘s', 'same', 'until', 'the', 'they', 'say', \"'d\", 'sixty', 'below', 'anything', 'something', 're', 'had', 'upon', 'are', 'either', 'own', 'i', 'were', 'wherein', 'has', 'we', 'via', 'becoming', 'into', 'noone', 'hers', 'often', \"'re\", 'a', 'due', 'already'}\n"
>>>>>>> f42e2f160dbaa16179170b5376ac900abbe0d121
     ]
    }
   ],
   "source": [
    "# The next step is to remove the useless words, namely, the stopwords. Stopwords are words that frequently appear in many articles,\n",
    "# but without significant meanings. Examples of stopwords are ‘I’, ‘the’, ‘a’, ‘of’.\n",
    "# spacy stopwords\n",
    "stopwords = nlp.Defaults.stop_words\n",
    "print(len(stopwords)) # 326\n",
    "print(stopwords)"
   ]
  },
  {
   "cell_type": "code",
<<<<<<< HEAD
   "execution_count": 11,
=======
   "execution_count": 16,
>>>>>>> f42e2f160dbaa16179170b5376ac900abbe0d121
   "metadata": {},
   "outputs": [],
   "source": [
    "# exclude the stopwords from the text\n",
    "df['text1'] = df['text1'].apply(lambda x: \" \".join(x for x in x.split() if x not in stopwords))"
   ]
  },
  {
   "cell_type": "markdown",
   "metadata": {},
   "source": [
    "### Lemmatization"
   ]
  },
  {
   "cell_type": "markdown",
   "metadata": {},
   "source": [
    "Another way of converting words to its original form is called stemming.\n",
    "Lemmatization is taking a word into its original lemma, and stemming is taking the linguistic root of a word."
   ]
  },
  {
   "cell_type": "code",
<<<<<<< HEAD
   "execution_count": 12,
=======
   "execution_count": 18,
>>>>>>> f42e2f160dbaa16179170b5376ac900abbe0d121
   "metadata": {},
   "outputs": [],
   "source": [
    "def space(tweet):\n",
    "    doc = nlp(tweet)\n",
    "    return \" \".join([token.lemma_ for token in doc])\n",
    "df['text1'] = df['text1'].apply(space)"
   ]
  },
  {
   "cell_type": "markdown",
   "metadata": {},
   "source": [
    "## Check which are the most common words"
   ]
  },
  {
   "cell_type": "code",
<<<<<<< HEAD
   "execution_count": 13,
=======
   "execution_count": null,
>>>>>>> f42e2f160dbaa16179170b5376ac900abbe0d121
   "metadata": {},
   "outputs": [],
   "source": [
    "# token dividen\n",
    "token_ = [i.split() for i in df[\"text1\"]]\n",
    "# token joined in one list \n",
    "#remove words with lenght < 3 and puntctuations !\"#$%&'()*+,-./:;<=>?@[\\]^_`{|}~\n",
    "tokens = [item for sublist in token_ for item in sublist if len(item) > 3 and item not in punctuation]"
   ]
  },
  {
   "cell_type": "code",
<<<<<<< HEAD
   "execution_count": 14,
=======
   "execution_count": null,
>>>>>>> f42e2f160dbaa16179170b5376ac900abbe0d121
   "metadata": {},
   "outputs": [],
   "source": [
    "# Print most common word\n",
    "n_print = int(input(\"How many most common words to print: \"))\n",
    "print(\"\\nOK. The {} most common words are as follows\\n\".format(n_print))\n",
    "word_counter = Counter(tokens)\n",
    "for word, count in word_counter.most_common(n_print):\n",
    "    print(word, \" : \", count)"
   ]
  },
  {
   "cell_type": "code",
<<<<<<< HEAD
   "execution_count": 15,
=======
   "execution_count": null,
>>>>>>> f42e2f160dbaa16179170b5376ac900abbe0d121
   "metadata": {},
   "outputs": [],
   "source": [
    "# Create a data frame of the most common words \n",
    "lst = word_counter.most_common(n_print)\n",
    "df_most_common = pd.DataFrame(lst, columns = ['Word', 'Count'])"
   ]
  },
  {
   "cell_type": "code",
<<<<<<< HEAD
   "execution_count": 16,
=======
   "execution_count": null,
>>>>>>> f42e2f160dbaa16179170b5376ac900abbe0d121
   "metadata": {},
   "outputs": [
    {
     "data": {
      "image/png": "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",
      "text/plain": [
       "<Figure size 576x720 with 1 Axes>"
      ]
     },
     "metadata": {
      "needs_background": "light"
     },
     "output_type": "display_data"
    }
   ],
   "source": [
    "# Draw a bar chart dropping limerick \n",
    "plt.figure(figsize=(8,10))\n",
    "sns.barplot(y= 'Word', x = 'Count', data = df_most_common.drop([0,1]))\n",
    "plt.show()"
   ]
  },
  {
   "cell_type": "markdown",
   "metadata": {},
   "source": [
    "Save the cleaned dataframe\n"
   ]
  },
  {
   "cell_type": "code",
<<<<<<< HEAD
   "execution_count": 17,
=======
   "execution_count": 19,
>>>>>>> f42e2f160dbaa16179170b5376ac900abbe0d121
   "metadata": {},
   "outputs": [],
   "source": [
    "df.to_csv('../dataframe/df_completec.csv') "
   ]
  },
  {
   "cell_type": "code",
   "execution_count": null,
   "metadata": {},
   "outputs": [],
   "source": []
  }
 ],
 "metadata": {
  "kernelspec": {
   "display_name": "Python 3.10.0 64-bit",
   "language": "python",
   "name": "python3"
  },
  "language_info": {
   "codemirror_mode": {
    "name": "ipython",
    "version": 3
   },
   "file_extension": ".py",
   "mimetype": "text/x-python",
   "name": "python",
   "nbconvert_exporter": "python",
   "pygments_lexer": "ipython3",
   "version": "3.10.0"
  },
  "orig_nbformat": 4,
  "vscode": {
   "interpreter": {
    "hash": "cfed93451c29ea5b5eea9b91a43b4edb57dc235ce316cc9cede44e9cc75622d3"
   }
  }
 },
 "nbformat": 4,
 "nbformat_minor": 2
}
