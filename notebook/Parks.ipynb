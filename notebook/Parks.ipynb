{
 "cells": [
  {
   "cell_type": "code",
   "execution_count": 9,
   "metadata": {},
   "outputs": [],
   "source": [
    "# Estrazione sentimenti singoli parchi\n",
    "import pandas as pd"
   ]
  },
  {
   "cell_type": "code",
   "execution_count": 11,
   "metadata": {},
   "outputs": [],
   "source": [
    "#read dataframe\n",
    "filepath = '../dataframe/df_complete.csv'\n",
    "df = pd.read_csv(filepath)"
   ]
  },
  {
   "cell_type": "code",
   "execution_count": 12,
   "metadata": {},
   "outputs": [
    {
     "name": "stdout",
     "output_type": "stream",
     "text": [
      "<class 'pandas.core.frame.DataFrame'>\n",
      "RangeIndex: 26896 entries, 0 to 26895\n",
      "Data columns (total 13 columns):\n",
      " #   Column               Non-Null Count  Dtype \n",
      "---  ------               --------------  ----- \n",
      " 0   Unnamed: 0           26896 non-null  int64 \n",
      " 1   _id                  26896 non-null  int64 \n",
      " 2   entities             26854 non-null  object\n",
      " 3   conversation_id      26896 non-null  int64 \n",
      " 4   author_id            26896 non-null  int64 \n",
      " 5   geo                  3027 non-null   object\n",
      " 6   lang                 26896 non-null  object\n",
      " 7   attachments          9670 non-null   object\n",
      " 8   public_metrics       26896 non-null  object\n",
      " 9   text                 26896 non-null  object\n",
      " 10  created_at           26896 non-null  object\n",
      " 11  id                   26896 non-null  int64 \n",
      " 12  context_annotations  5999 non-null   object\n",
      "dtypes: int64(5), object(8)\n",
      "memory usage: 2.7+ MB\n"
     ]
    }
   ],
   "source": [
    "df.info()\n"
   ]
  },
  {
   "cell_type": "code",
   "execution_count": 38,
   "metadata": {},
   "outputs": [
    {
     "data": {
      "text/plain": [
       "'ciao  michiamo  virginia e sono a    torin o come  va     '"
      ]
     },
     "execution_count": 38,
     "metadata": {},
     "output_type": "execute_result"
    }
   ],
   "source": [
    "import re\n",
    "frase = \"ciao! Michiamo -Virginia,e sono_a,:;.Torino come, va@?&%$\"\n",
    "# Remove punctuations (anche hashtag, @)\n",
    "frase = frase.lower()\n",
    "frase = re.sub('[\\W_]',' ', frase)\n",
    "frase"
   ]
  }
 ],
 "metadata": {
  "kernelspec": {
   "display_name": "Python 3.10.0 64-bit",
   "language": "python",
   "name": "python3"
  },
  "language_info": {
   "codemirror_mode": {
    "name": "ipython",
    "version": 3
   },
   "file_extension": ".py",
   "mimetype": "text/x-python",
   "name": "python",
   "nbconvert_exporter": "python",
   "pygments_lexer": "ipython3",
   "version": "3.10.0"
  },
  "orig_nbformat": 4,
  "vscode": {
   "interpreter": {
    "hash": "cfed93451c29ea5b5eea9b91a43b4edb57dc235ce316cc9cede44e9cc75622d3"
   }
  }
 },
 "nbformat": 4,
 "nbformat_minor": 2
}
