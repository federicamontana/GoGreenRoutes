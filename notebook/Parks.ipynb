{
 "cells": [
  {
   "cell_type": "markdown",
   "metadata": {},
   "source": [
    "#### Estrazione sentimenti singoli parchi\n"
   ]
  },
  {
   "cell_type": "code",
   "execution_count": 1,
   "metadata": {},
   "outputs": [],
   "source": [
    "import pandas as pd\n",
    "import numpy as np \n",
    "from nrclex import NRCLex \n",
    "import matplotlib.pyplot as plt\n",
    "from matplotlib import cm\n",
    "import seaborn as sns\n",
    "import sys"
   ]
  },
  {
   "cell_type": "code",
   "execution_count": 2,
   "metadata": {},
   "outputs": [],
   "source": [
    "#read dataframe\n",
    "filepath = '../dataframe/df_completec.csv'\n",
    "df = pd.read_csv(filepath)"
   ]
  },
  {
   "cell_type": "markdown",
   "metadata": {},
   "source": [
    "#### Ballyhoura"
   ]
  },
  {
   "cell_type": "code",
   "execution_count": 3,
   "metadata": {},
   "outputs": [],
   "source": [
    "df = df[df['text1'].str.contains('ballyhoura')]"
   ]
  },
  {
   "cell_type": "markdown",
   "metadata": {},
   "source": [
    "#### Analisi dei sentimenti per singolo parco"
   ]
  },
  {
   "cell_type": "code",
   "execution_count": 8,
   "metadata": {},
   "outputs": [
    {
     "data": {
      "text/html": [
       "<div>\n",
       "<style scoped>\n",
       "    .dataframe tbody tr th:only-of-type {\n",
       "        vertical-align: middle;\n",
       "    }\n",
       "\n",
       "    .dataframe tbody tr th {\n",
       "        vertical-align: top;\n",
       "    }\n",
       "\n",
       "    .dataframe thead th {\n",
       "        text-align: right;\n",
       "    }\n",
       "</style>\n",
       "<table border=\"1\" class=\"dataframe\">\n",
       "  <thead>\n",
       "    <tr style=\"text-align: right;\">\n",
       "      <th></th>\n",
       "      <th>text1</th>\n",
       "      <th>emotions_freq</th>\n",
       "    </tr>\n",
       "  </thead>\n",
       "  <tbody>\n",
       "    <tr>\n",
       "      <th>299</th>\n",
       "      <td>ballyhoura ceramics wise participant ballyhour...</td>\n",
       "      <td>{'fear': 0.07692307692307693, 'anger': 0.07692...</td>\n",
       "    </tr>\n",
       "    <tr>\n",
       "      <th>300</th>\n",
       "      <td>come moat kilfinane overlook ballyhoura mounta...</td>\n",
       "      <td>{'fear': 0.0, 'anger': 0.0, 'anticip': 0.0, 't...</td>\n",
       "    </tr>\n",
       "    <tr>\n",
       "      <th>301</th>\n",
       "      <td>wild ballyhoura mtb rate ballyhoura mountainbi...</td>\n",
       "      <td>{'fear': 0.0, 'anger': 0.0, 'anticip': 0.0, 't...</td>\n",
       "    </tr>\n",
       "    <tr>\n",
       "      <th>302</th>\n",
       "      <td>ballyhoura mountain trail fantastic amenity do...</td>\n",
       "      <td>{'fear': 0.0, 'anger': 0.0, 'anticip': 0.0, 't...</td>\n",
       "    </tr>\n",
       "    <tr>\n",
       "      <th>303</th>\n",
       "      <td>deric tv xvking zara riverislandpr pop ballyho...</td>\n",
       "      <td>{'fear': 0.0, 'anger': 0.0, 'anticip': 0.0, 't...</td>\n",
       "    </tr>\n",
       "  </tbody>\n",
       "</table>\n",
       "</div>"
      ],
      "text/plain": [
       "                                                 text1  \\\n",
       "299  ballyhoura ceramics wise participant ballyhour...   \n",
       "300  come moat kilfinane overlook ballyhoura mounta...   \n",
       "301  wild ballyhoura mtb rate ballyhoura mountainbi...   \n",
       "302  ballyhoura mountain trail fantastic amenity do...   \n",
       "303  deric tv xvking zara riverislandpr pop ballyho...   \n",
       "\n",
       "                                         emotions_freq  \n",
       "299  {'fear': 0.07692307692307693, 'anger': 0.07692...  \n",
       "300  {'fear': 0.0, 'anger': 0.0, 'anticip': 0.0, 't...  \n",
       "301  {'fear': 0.0, 'anger': 0.0, 'anticip': 0.0, 't...  \n",
       "302  {'fear': 0.0, 'anger': 0.0, 'anticip': 0.0, 't...  \n",
       "303  {'fear': 0.0, 'anger': 0.0, 'anticip': 0.0, 't...  "
      ]
     },
     "execution_count": 8,
     "metadata": {},
     "output_type": "execute_result"
    }
   ],
   "source": [
    "#Return affect frequencies\n",
    "df_f = pd.DataFrame(df[\"text1\"])\n",
    "df_f[\"emotions_freq\"] = df_f[\"text1\"].apply(lambda x: NRCLex(x).affect_frequencies)\n",
    "df_f.head()"
   ]
  },
  {
   "cell_type": "code",
   "execution_count": 9,
   "metadata": {},
   "outputs": [
    {
     "data": {
      "text/html": [
       "<div>\n",
       "<style scoped>\n",
       "    .dataframe tbody tr th:only-of-type {\n",
       "        vertical-align: middle;\n",
       "    }\n",
       "\n",
       "    .dataframe tbody tr th {\n",
       "        vertical-align: top;\n",
       "    }\n",
       "\n",
       "    .dataframe thead th {\n",
       "        text-align: right;\n",
       "    }\n",
       "</style>\n",
       "<table border=\"1\" class=\"dataframe\">\n",
       "  <thead>\n",
       "    <tr style=\"text-align: right;\">\n",
       "      <th></th>\n",
       "      <th>text1</th>\n",
       "      <th>fear</th>\n",
       "      <th>anger</th>\n",
       "      <th>trust</th>\n",
       "      <th>surprise</th>\n",
       "      <th>positive</th>\n",
       "      <th>negative</th>\n",
       "      <th>sadness</th>\n",
       "      <th>disgust</th>\n",
       "      <th>joy</th>\n",
       "      <th>anticipation</th>\n",
       "    </tr>\n",
       "  </thead>\n",
       "  <tbody>\n",
       "    <tr>\n",
       "      <th>299</th>\n",
       "      <td>ballyhoura ceramics wise participant ballyhour...</td>\n",
       "      <td>0.076923</td>\n",
       "      <td>0.076923</td>\n",
       "      <td>0.076923</td>\n",
       "      <td>0.153846</td>\n",
       "      <td>0.230769</td>\n",
       "      <td>0.076923</td>\n",
       "      <td>0.0</td>\n",
       "      <td>0.0</td>\n",
       "      <td>0.153846</td>\n",
       "      <td>0.153846</td>\n",
       "    </tr>\n",
       "    <tr>\n",
       "      <th>300</th>\n",
       "      <td>come moat kilfinane overlook ballyhoura mounta...</td>\n",
       "      <td>0.000000</td>\n",
       "      <td>0.000000</td>\n",
       "      <td>0.500000</td>\n",
       "      <td>0.000000</td>\n",
       "      <td>0.000000</td>\n",
       "      <td>0.000000</td>\n",
       "      <td>0.0</td>\n",
       "      <td>0.0</td>\n",
       "      <td>0.000000</td>\n",
       "      <td>0.500000</td>\n",
       "    </tr>\n",
       "    <tr>\n",
       "      <th>301</th>\n",
       "      <td>wild ballyhoura mtb rate ballyhoura mountainbi...</td>\n",
       "      <td>0.000000</td>\n",
       "      <td>0.000000</td>\n",
       "      <td>0.000000</td>\n",
       "      <td>0.500000</td>\n",
       "      <td>0.000000</td>\n",
       "      <td>0.500000</td>\n",
       "      <td>0.0</td>\n",
       "      <td>0.0</td>\n",
       "      <td>0.000000</td>\n",
       "      <td>0.000000</td>\n",
       "    </tr>\n",
       "    <tr>\n",
       "      <th>302</th>\n",
       "      <td>ballyhoura mountain trail fantastic amenity do...</td>\n",
       "      <td>0.000000</td>\n",
       "      <td>0.000000</td>\n",
       "      <td>0.000000</td>\n",
       "      <td>0.000000</td>\n",
       "      <td>0.500000</td>\n",
       "      <td>0.000000</td>\n",
       "      <td>0.0</td>\n",
       "      <td>0.0</td>\n",
       "      <td>0.000000</td>\n",
       "      <td>0.500000</td>\n",
       "    </tr>\n",
       "    <tr>\n",
       "      <th>303</th>\n",
       "      <td>deric tv xvking zara riverislandpr pop ballyho...</td>\n",
       "      <td>0.000000</td>\n",
       "      <td>0.000000</td>\n",
       "      <td>0.166667</td>\n",
       "      <td>0.166667</td>\n",
       "      <td>0.166667</td>\n",
       "      <td>0.166667</td>\n",
       "      <td>0.0</td>\n",
       "      <td>0.0</td>\n",
       "      <td>0.166667</td>\n",
       "      <td>0.166667</td>\n",
       "    </tr>\n",
       "  </tbody>\n",
       "</table>\n",
       "</div>"
      ],
      "text/plain": [
       "                                                 text1      fear     anger  \\\n",
       "299  ballyhoura ceramics wise participant ballyhour...  0.076923  0.076923   \n",
       "300  come moat kilfinane overlook ballyhoura mounta...  0.000000  0.000000   \n",
       "301  wild ballyhoura mtb rate ballyhoura mountainbi...  0.000000  0.000000   \n",
       "302  ballyhoura mountain trail fantastic amenity do...  0.000000  0.000000   \n",
       "303  deric tv xvking zara riverislandpr pop ballyho...  0.000000  0.000000   \n",
       "\n",
       "        trust  surprise  positive  negative  sadness  disgust       joy  \\\n",
       "299  0.076923  0.153846  0.230769  0.076923      0.0      0.0  0.153846   \n",
       "300  0.500000  0.000000  0.000000  0.000000      0.0      0.0  0.000000   \n",
       "301  0.000000  0.500000  0.000000  0.500000      0.0      0.0  0.000000   \n",
       "302  0.000000  0.000000  0.500000  0.000000      0.0      0.0  0.000000   \n",
       "303  0.166667  0.166667  0.166667  0.166667      0.0      0.0  0.166667   \n",
       "\n",
       "     anticipation  \n",
       "299      0.153846  \n",
       "300      0.500000  \n",
       "301      0.000000  \n",
       "302      0.500000  \n",
       "303      0.166667  "
      ]
     },
     "execution_count": 9,
     "metadata": {},
     "output_type": "execute_result"
    }
   ],
   "source": [
    "#Concateno il dataframe df_f in cui ho preso solo la colonna text1 con drop\n",
    "# e quello in cui ho estratto il dizionario in formato pandas e messo le emozioni in colonna\n",
    "#con .drop elimino la colonna anticip che è in più dato che esiste anticipation\n",
    "df_s = pd.concat([df_f.drop(['emotions_freq'], axis = 1), df_f['emotions_freq'].apply(pd.Series).drop(\"anticip\", axis=1)], axis = 1)\n",
    "\n",
    "#Replace NaN with 0\n",
    "df_s = df_s.replace(np.nan,0)\n",
    "df_s.head()\n"
   ]
  },
  {
   "cell_type": "markdown",
   "metadata": {},
   "source": [
    "#### Freq media"
   ]
  },
  {
   "cell_type": "code",
   "execution_count": 10,
   "metadata": {},
   "outputs": [
    {
     "name": "stdout",
     "output_type": "stream",
     "text": [
      "fear :  0.024\n",
      "anger :  0.024\n",
      "trust :  0.112\n",
      "surprise :  0.047\n",
      "positive :  0.275\n",
      "negative :  0.054\n",
      "sadness :  0.015\n",
      "disgust :  0.003\n",
      "joy :  0.123\n",
      "anticipation :  0.153\n"
     ]
    }
   ],
   "source": [
    "sys.path.insert(1,'..')\n",
    "from Utility_Fede import aggregation,label\n",
    "aggr = []\n",
    "labels = []\n",
    "\n",
    "for i in df_f['emotions_freq'].apply(pd.Series).drop(\"anticip\", axis=1) : aggregation(i,df_s,aggr)"
   ]
  },
  {
   "cell_type": "code",
   "execution_count": 11,
   "metadata": {},
   "outputs": [
    {
     "data": {
      "text/html": [
       "<div>\n",
       "<style scoped>\n",
       "    .dataframe tbody tr th:only-of-type {\n",
       "        vertical-align: middle;\n",
       "    }\n",
       "\n",
       "    .dataframe tbody tr th {\n",
       "        vertical-align: top;\n",
       "    }\n",
       "\n",
       "    .dataframe thead th {\n",
       "        text-align: right;\n",
       "    }\n",
       "</style>\n",
       "<table border=\"1\" class=\"dataframe\">\n",
       "  <thead>\n",
       "    <tr style=\"text-align: right;\">\n",
       "      <th></th>\n",
       "      <th>Ballyhoura</th>\n",
       "    </tr>\n",
       "  </thead>\n",
       "  <tbody>\n",
       "    <tr>\n",
       "      <th>fear</th>\n",
       "      <td>0.024</td>\n",
       "    </tr>\n",
       "    <tr>\n",
       "      <th>anger</th>\n",
       "      <td>0.024</td>\n",
       "    </tr>\n",
       "    <tr>\n",
       "      <th>trust</th>\n",
       "      <td>0.112</td>\n",
       "    </tr>\n",
       "    <tr>\n",
       "      <th>surprise</th>\n",
       "      <td>0.047</td>\n",
       "    </tr>\n",
       "    <tr>\n",
       "      <th>positive</th>\n",
       "      <td>0.275</td>\n",
       "    </tr>\n",
       "    <tr>\n",
       "      <th>negative</th>\n",
       "      <td>0.054</td>\n",
       "    </tr>\n",
       "    <tr>\n",
       "      <th>sadness</th>\n",
       "      <td>0.015</td>\n",
       "    </tr>\n",
       "    <tr>\n",
       "      <th>disgust</th>\n",
       "      <td>0.003</td>\n",
       "    </tr>\n",
       "    <tr>\n",
       "      <th>joy</th>\n",
       "      <td>0.123</td>\n",
       "    </tr>\n",
       "    <tr>\n",
       "      <th>anticipation</th>\n",
       "      <td>0.153</td>\n",
       "    </tr>\n",
       "  </tbody>\n",
       "</table>\n",
       "</div>"
      ],
      "text/plain": [
       "              Ballyhoura\n",
       "fear               0.024\n",
       "anger              0.024\n",
       "trust              0.112\n",
       "surprise           0.047\n",
       "positive           0.275\n",
       "negative           0.054\n",
       "sadness            0.015\n",
       "disgust            0.003\n",
       "joy                0.123\n",
       "anticipation       0.153"
      ]
     },
     "execution_count": 11,
     "metadata": {},
     "output_type": "execute_result"
    }
   ],
   "source": [
    "ballyhoura_df = pd.DataFrame(\n",
    "    {'Ballyhoura': aggr\n",
    "    }, index = label)\n",
    "\n",
    "ballyhoura_df"
   ]
  },
  {
   "cell_type": "markdown",
   "metadata": {},
   "source": [
    "#### Shannon"
   ]
  },
  {
   "cell_type": "code",
   "execution_count": 19,
   "metadata": {},
   "outputs": [
    {
     "name": "stdout",
     "output_type": "stream",
     "text": [
      "fear :  0.034\n",
      "anger :  0.025\n",
      "trust :  0.130\n",
      "surprise :  0.046\n",
      "positive :  0.223\n",
      "negative :  0.063\n",
      "sadness :  0.027\n",
      "disgust :  0.012\n",
      "joy :  0.085\n",
      "anticipation :  0.126\n"
     ]
    },
    {
     "data": {
      "text/html": [
       "<div>\n",
       "<style scoped>\n",
       "    .dataframe tbody tr th:only-of-type {\n",
       "        vertical-align: middle;\n",
       "    }\n",
       "\n",
       "    .dataframe tbody tr th {\n",
       "        vertical-align: top;\n",
       "    }\n",
       "\n",
       "    .dataframe thead th {\n",
       "        text-align: right;\n",
       "    }\n",
       "</style>\n",
       "<table border=\"1\" class=\"dataframe\">\n",
       "  <thead>\n",
       "    <tr style=\"text-align: right;\">\n",
       "      <th></th>\n",
       "      <th>Shannon</th>\n",
       "    </tr>\n",
       "  </thead>\n",
       "  <tbody>\n",
       "    <tr>\n",
       "      <th>fear</th>\n",
       "      <td>0.034</td>\n",
       "    </tr>\n",
       "    <tr>\n",
       "      <th>anger</th>\n",
       "      <td>0.025</td>\n",
       "    </tr>\n",
       "    <tr>\n",
       "      <th>trust</th>\n",
       "      <td>0.130</td>\n",
       "    </tr>\n",
       "    <tr>\n",
       "      <th>surprise</th>\n",
       "      <td>0.046</td>\n",
       "    </tr>\n",
       "    <tr>\n",
       "      <th>positive</th>\n",
       "      <td>0.223</td>\n",
       "    </tr>\n",
       "    <tr>\n",
       "      <th>negative</th>\n",
       "      <td>0.063</td>\n",
       "    </tr>\n",
       "    <tr>\n",
       "      <th>sadness</th>\n",
       "      <td>0.027</td>\n",
       "    </tr>\n",
       "    <tr>\n",
       "      <th>disgust</th>\n",
       "      <td>0.012</td>\n",
       "    </tr>\n",
       "    <tr>\n",
       "      <th>joy</th>\n",
       "      <td>0.085</td>\n",
       "    </tr>\n",
       "    <tr>\n",
       "      <th>anticipation</th>\n",
       "      <td>0.126</td>\n",
       "    </tr>\n",
       "  </tbody>\n",
       "</table>\n",
       "</div>"
      ],
      "text/plain": [
       "              Shannon\n",
       "fear            0.034\n",
       "anger           0.025\n",
       "trust           0.130\n",
       "surprise        0.046\n",
       "positive        0.223\n",
       "negative        0.063\n",
       "sadness         0.027\n",
       "disgust         0.012\n",
       "joy             0.085\n",
       "anticipation    0.126"
      ]
     },
     "execution_count": 19,
     "metadata": {},
     "output_type": "execute_result"
    }
   ],
   "source": [
    "df = pd.read_csv(filepath)\n",
    "df = df[df['text1'].str.contains('shannon')]\n",
    "df[\"emotions_freq\"] = df[\"text1\"].apply(lambda x: NRCLex(x).affect_frequencies)\n",
    "df_f= df[[\"text1\",\"emotions_freq\"]]\n",
    "df_s = pd.concat([df_f.drop(['emotions_freq'], axis = 1), df_f['emotions_freq'].apply(pd.Series).drop(\"anticip\", axis=1)], axis = 1)\n",
    "df_s = df_s.replace(np.nan,0)\n",
    "\n",
    "aggr = []\n",
    "labels = []\n",
    "\n",
    "for i in df_f['emotions_freq'].apply(pd.Series).drop(\"anticip\", axis=1) : aggregation(i,df_s,aggr)\n",
    "shannon_df = pd.DataFrame(\n",
    "    {'Shannon': aggr\n",
    "    }, index = labels)\n",
    "\n",
    "shannon_df\n"
   ]
  },
  {
   "cell_type": "code",
   "execution_count": 20,
   "metadata": {},
   "outputs": [
    {
     "name": "stdout",
     "output_type": "stream",
     "text": [
      "fear :  0.058\n",
      "anger :  0.014\n",
      "trust :  0.163\n",
      "surprise :  0.017\n",
      "positive :  0.261\n",
      "negative :  0.044\n",
      "sadness :  0.055\n",
      "disgust :  0.014\n",
      "joy :  0.091\n",
      "anticipation :  0.086\n"
     ]
    },
    {
     "data": {
      "text/html": [
       "<div>\n",
       "<style scoped>\n",
       "    .dataframe tbody tr th:only-of-type {\n",
       "        vertical-align: middle;\n",
       "    }\n",
       "\n",
       "    .dataframe tbody tr th {\n",
       "        vertical-align: top;\n",
       "    }\n",
       "\n",
       "    .dataframe thead th {\n",
       "        text-align: right;\n",
       "    }\n",
       "</style>\n",
       "<table border=\"1\" class=\"dataframe\">\n",
       "  <thead>\n",
       "    <tr style=\"text-align: right;\">\n",
       "      <th></th>\n",
       "      <th>Ted russel</th>\n",
       "    </tr>\n",
       "  </thead>\n",
       "  <tbody>\n",
       "    <tr>\n",
       "      <th>fear</th>\n",
       "      <td>0.058</td>\n",
       "    </tr>\n",
       "    <tr>\n",
       "      <th>anger</th>\n",
       "      <td>0.014</td>\n",
       "    </tr>\n",
       "    <tr>\n",
       "      <th>trust</th>\n",
       "      <td>0.163</td>\n",
       "    </tr>\n",
       "    <tr>\n",
       "      <th>surprise</th>\n",
       "      <td>0.017</td>\n",
       "    </tr>\n",
       "    <tr>\n",
       "      <th>positive</th>\n",
       "      <td>0.261</td>\n",
       "    </tr>\n",
       "    <tr>\n",
       "      <th>negative</th>\n",
       "      <td>0.044</td>\n",
       "    </tr>\n",
       "    <tr>\n",
       "      <th>sadness</th>\n",
       "      <td>0.055</td>\n",
       "    </tr>\n",
       "    <tr>\n",
       "      <th>disgust</th>\n",
       "      <td>0.014</td>\n",
       "    </tr>\n",
       "    <tr>\n",
       "      <th>joy</th>\n",
       "      <td>0.091</td>\n",
       "    </tr>\n",
       "    <tr>\n",
       "      <th>anticipation</th>\n",
       "      <td>0.086</td>\n",
       "    </tr>\n",
       "  </tbody>\n",
       "</table>\n",
       "</div>"
      ],
      "text/plain": [
       "              Ted russel\n",
       "fear               0.058\n",
       "anger              0.014\n",
       "trust              0.163\n",
       "surprise           0.017\n",
       "positive           0.261\n",
       "negative           0.044\n",
       "sadness            0.055\n",
       "disgust            0.014\n",
       "joy                0.091\n",
       "anticipation       0.086"
      ]
     },
     "execution_count": 20,
     "metadata": {},
     "output_type": "execute_result"
    }
   ],
   "source": [
    "df = pd.read_csv(filepath)\n",
    "df = df[df['text1'].str.contains('ted russel')]\n",
    "df[\"emotions_freq\"] = df[\"text1\"].apply(lambda x: NRCLex(x).affect_frequencies)\n",
    "df_f= df[[\"text1\",\"emotions_freq\"]]\n",
    "df_s = pd.concat([df_f.drop(['emotions_freq'], axis = 1), df_f['emotions_freq'].apply(pd.Series).drop(\"anticip\", axis=1)], axis = 1)\n",
    "df_s = df_s.replace(np.nan,0)\n",
    "\n",
    "aggr = []\n",
    "labels = []\n",
    "\n",
    "for i in df_f['emotions_freq'].apply(pd.Series).drop(\"anticip\", axis=1) : aggregation(i,df_s,aggr)\n",
    "ted_russel_df = pd.DataFrame(\n",
    "    {'Ted russel': aggr\n",
    "    }, index = labels)\n",
    "\n",
    "ted_russel_df"
   ]
  },
  {
   "cell_type": "markdown",
   "metadata": {},
   "source": [
    "#### Westfields"
   ]
  },
  {
   "cell_type": "code",
   "execution_count": 21,
   "metadata": {},
   "outputs": [
    {
     "name": "stdout",
     "output_type": "stream",
     "text": [
      "fear :  0.040\n",
      "anger :  0.017\n",
      "trust :  0.091\n",
      "surprise :  0.017\n",
      "positive :  0.193\n",
      "negative :  0.024\n",
      "sadness :  0.014\n",
      "disgust :  0.002\n",
      "joy :  0.046\n",
      "anticipation :  0.064\n"
     ]
    },
    {
     "data": {
      "text/html": [
       "<div>\n",
       "<style scoped>\n",
       "    .dataframe tbody tr th:only-of-type {\n",
       "        vertical-align: middle;\n",
       "    }\n",
       "\n",
       "    .dataframe tbody tr th {\n",
       "        vertical-align: top;\n",
       "    }\n",
       "\n",
       "    .dataframe thead th {\n",
       "        text-align: right;\n",
       "    }\n",
       "</style>\n",
       "<table border=\"1\" class=\"dataframe\">\n",
       "  <thead>\n",
       "    <tr style=\"text-align: right;\">\n",
       "      <th></th>\n",
       "      <th>Westfields</th>\n",
       "    </tr>\n",
       "  </thead>\n",
       "  <tbody>\n",
       "    <tr>\n",
       "      <th>fear</th>\n",
       "      <td>0.040</td>\n",
       "    </tr>\n",
       "    <tr>\n",
       "      <th>anger</th>\n",
       "      <td>0.017</td>\n",
       "    </tr>\n",
       "    <tr>\n",
       "      <th>trust</th>\n",
       "      <td>0.091</td>\n",
       "    </tr>\n",
       "    <tr>\n",
       "      <th>surprise</th>\n",
       "      <td>0.017</td>\n",
       "    </tr>\n",
       "    <tr>\n",
       "      <th>positive</th>\n",
       "      <td>0.193</td>\n",
       "    </tr>\n",
       "    <tr>\n",
       "      <th>negative</th>\n",
       "      <td>0.024</td>\n",
       "    </tr>\n",
       "    <tr>\n",
       "      <th>sadness</th>\n",
       "      <td>0.014</td>\n",
       "    </tr>\n",
       "    <tr>\n",
       "      <th>disgust</th>\n",
       "      <td>0.002</td>\n",
       "    </tr>\n",
       "    <tr>\n",
       "      <th>joy</th>\n",
       "      <td>0.046</td>\n",
       "    </tr>\n",
       "    <tr>\n",
       "      <th>anticipation</th>\n",
       "      <td>0.064</td>\n",
       "    </tr>\n",
       "  </tbody>\n",
       "</table>\n",
       "</div>"
      ],
      "text/plain": [
       "              Westfields\n",
       "fear               0.040\n",
       "anger              0.017\n",
       "trust              0.091\n",
       "surprise           0.017\n",
       "positive           0.193\n",
       "negative           0.024\n",
       "sadness            0.014\n",
       "disgust            0.002\n",
       "joy                0.046\n",
       "anticipation       0.064"
      ]
     },
     "execution_count": 21,
     "metadata": {},
     "output_type": "execute_result"
    }
   ],
   "source": [
    "df = pd.read_csv(filepath)\n",
    "df = df[df['text1'].str.contains('westfields')]\n",
    "df[\"emotions_freq\"] = df[\"text1\"].apply(lambda x: NRCLex(x).affect_frequencies)\n",
    "df_f= df[[\"text1\",\"emotions_freq\"]]\n",
    "df_s = pd.concat([df_f.drop(['emotions_freq'], axis = 1), df_f['emotions_freq'].apply(pd.Series).drop(\"anticip\", axis=1)], axis = 1)\n",
    "df_s = df_s.replace(np.nan,0)\n",
    "\n",
    "aggr = []\n",
    "labels = []\n",
    "\n",
    "for i in df_f['emotions_freq'].apply(pd.Series).drop(\"anticip\", axis=1) : aggregation(i,df_s,aggr,labels)\n",
    "westfields_df = pd.DataFrame(\n",
    "    {'Westfields': aggr\n",
    "    }, index = labels)\n",
    "\n",
    "westfields_df"
   ]
  },
  {
   "cell_type": "markdown",
   "metadata": {},
   "source": [
    "#### Merge all the parks in one df"
   ]
  },
  {
   "cell_type": "code",
   "execution_count": 5,
   "metadata": {},
   "outputs": [
    {
     "data": {
      "text/plain": [
       "(              ballyhoura\n",
       " fear               0.024\n",
       " anger              0.024\n",
       " trust              0.112\n",
       " surprise           0.047\n",
       " positive           0.275\n",
       " negative           0.054\n",
       " sadness            0.015\n",
       " disgust            0.003\n",
       " joy                0.123\n",
       " anticipation       0.153,\n",
       " [0.024, 0.024, 0.112, 0.047, 0.275, 0.054, 0.015, 0.003, 0.123, 0.153])"
      ]
     },
     "execution_count": 5,
     "metadata": {},
     "output_type": "execute_result"
    }
   ],
   "source": [
    "from Utility_Fede import aggregation_byparks\n",
    "ballyhoura_df,aggr = aggregation_byparks('ballyhoura',df)\n",
    "westfields_df,aggr = aggregation_byparks('westfields',df)\n",
    "shannon_df,aggr = aggregation_byparks('shannon',df)\n",
    "ballyhoura_df"
   ]
  },
  {
   "cell_type": "code",
   "execution_count": null,
   "metadata": {},
   "outputs": [],
   "source": [
    "df_parks = pd.concat([ballyhoura_df, westfields_df, shannon_df], axis=1)\n",
    "df_parks"
   ]
  },
  {
   "cell_type": "code",
   "execution_count": 5,
   "metadata": {},
   "outputs": [
    {
     "data": {
      "text/plain": [
       "Text(0, 0.5, 'Frequencies')"
      ]
     },
     "execution_count": 5,
     "metadata": {},
     "output_type": "execute_result"
    },
    {
     "data": {
      "image/png": "[encoded data removed]",
      "text/plain": [
       "<Figure size 432x288 with 1 Axes>"
      ]
     },
     "metadata": {
      "needs_background": "light"
     },
     "output_type": "display_data"
    }
   ],
   "source": [
    "cmap = cm.get_cmap('Set3') # Colour map (there are many others)\n",
    "\n",
    "df_parks.plot.bar(cmap = cmap)\n",
    "\n",
    "plt.xlabel(\"Emotions\")\n",
    "plt.ylabel(\"Frequencies\")\n"
   ]
  },
  {
   "cell_type": "code",
   "execution_count": null,
   "metadata": {},
   "outputs": [],
   "source": []
  }
 ],
 "metadata": {
  "kernelspec": {
   "display_name": "Python 3.10.0 64-bit",
   "language": "python",
   "name": "python3"
  },
  "language_info": {
   "codemirror_mode": {
    "name": "ipython",
    "version": 3
   },
   "file_extension": ".py",
   "mimetype": "text/x-python",
   "name": "python",
   "nbconvert_exporter": "python",
   "pygments_lexer": "ipython3",
   "version": "3.10.0"
  },
  "orig_nbformat": 4,
  "vscode": {
   "interpreter": {
    "hash": "cfed93451c29ea5b5eea9b91a43b4edb57dc235ce316cc9cede44e9cc75622d3"
   }
  }
 },
 "nbformat": 4,
 "nbformat_minor": 2
}
