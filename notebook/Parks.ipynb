{
 "cells": [
  {
   "cell_type": "markdown",
   "metadata": {},
   "source": [
    "#### Estrazione sentimenti singoli parchi\n"
   ]
  },
  {
   "cell_type": "code",
   "execution_count": 51,
   "metadata": {},
   "outputs": [],
   "source": [
    "import pandas as pd\n",
    "import numpy as np \n",
    "from nrclex import NRCLex \n",
    "import matplotlib.pyplot as plt\n",
    "import seaborn as sns\n",
    "import sys"
   ]
  },
  {
   "cell_type": "code",
   "execution_count": 39,
   "metadata": {},
   "outputs": [],
   "source": [
    "#read dataframe\n",
    "filepath = '../dataframe/df_completec.csv'\n",
    "df = pd.read_csv(filepath)"
   ]
  },
  {
   "cell_type": "code",
   "execution_count": 43,
   "metadata": {},
   "outputs": [
    {
     "name": "stdout",
     "output_type": "stream",
     "text": [
      "<class 'pandas.core.frame.DataFrame'>\n",
      "Int64Index: 1857 entries, 299 to 24237\n",
      "Data columns (total 15 columns):\n",
      " #   Column               Non-Null Count  Dtype \n",
      "---  ------               --------------  ----- \n",
      " 0   Unnamed: 0.1         1857 non-null   int64 \n",
      " 1   Unnamed: 0           1857 non-null   int64 \n",
      " 2   _id                  1857 non-null   int64 \n",
      " 3   entities             1849 non-null   object\n",
      " 4   conversation_id      1857 non-null   int64 \n",
      " 5   author_id            1857 non-null   int64 \n",
      " 6   geo                  172 non-null    object\n",
      " 7   lang                 1857 non-null   object\n",
      " 8   attachments          700 non-null    object\n",
      " 9   public_metrics       1857 non-null   object\n",
      " 10  text                 1857 non-null   object\n",
      " 11  created_at           1857 non-null   object\n",
      " 12  id                   1857 non-null   int64 \n",
      " 13  context_annotations  423 non-null    object\n",
      " 14  text1                1857 non-null   object\n",
      "dtypes: int64(6), object(9)\n",
      "memory usage: 232.1+ KB\n"
     ]
    }
   ],
   "source": [
    "df = df[df['text1'].str.contains('ballyhoura')]\n",
    "df.info()\n"
   ]
  },
  {
   "cell_type": "markdown",
   "metadata": {},
   "source": [
    "#### Analisi dei sentimenti per singolo parco"
   ]
  },
  {
   "cell_type": "code",
   "execution_count": 47,
   "metadata": {},
   "outputs": [
    {
     "data": {
      "text/html": [
       "<div>\n",
       "<style scoped>\n",
       "    .dataframe tbody tr th:only-of-type {\n",
       "        vertical-align: middle;\n",
       "    }\n",
       "\n",
       "    .dataframe tbody tr th {\n",
       "        vertical-align: top;\n",
       "    }\n",
       "\n",
       "    .dataframe thead th {\n",
       "        text-align: right;\n",
       "    }\n",
       "</style>\n",
       "<table border=\"1\" class=\"dataframe\">\n",
       "  <thead>\n",
       "    <tr style=\"text-align: right;\">\n",
       "      <th></th>\n",
       "      <th>text1</th>\n",
       "      <th>emotions_freq</th>\n",
       "    </tr>\n",
       "  </thead>\n",
       "  <tbody>\n",
       "    <tr>\n",
       "      <th>299</th>\n",
       "      <td>ballyhoura ceramic wise participant ballyhoura...</td>\n",
       "      <td>{'fear': 0.07692307692307693, 'anger': 0.07692...</td>\n",
       "    </tr>\n",
       "    <tr>\n",
       "      <th>300</th>\n",
       "      <td>come moat kilfinane overlook ballyhoura mounta...</td>\n",
       "      <td>{'fear': 0.0, 'anger': 0.0, 'anticip': 0.0, 't...</td>\n",
       "    </tr>\n",
       "    <tr>\n",
       "      <th>301</th>\n",
       "      <td>wild ballyhoura mtb rate ballyhoura mountainbi...</td>\n",
       "      <td>{'fear': 0.0, 'anger': 0.0, 'anticip': 0.0, 't...</td>\n",
       "    </tr>\n",
       "    <tr>\n",
       "      <th>302</th>\n",
       "      <td>ballyhoura mountain trail fantastic amenity do...</td>\n",
       "      <td>{'fear': 0.0, 'anger': 0.0, 'anticip': 0.0, 't...</td>\n",
       "    </tr>\n",
       "    <tr>\n",
       "      <th>303</th>\n",
       "      <td>deric tv xvkings zara riverislandpr pop ballyh...</td>\n",
       "      <td>{'fear': 0.0, 'anger': 0.0, 'anticip': 0.0, 't...</td>\n",
       "    </tr>\n",
       "  </tbody>\n",
       "</table>\n",
       "</div>"
      ],
      "text/plain": [
       "                                                 text1  \\\n",
       "299  ballyhoura ceramic wise participant ballyhoura...   \n",
       "300  come moat kilfinane overlook ballyhoura mounta...   \n",
       "301  wild ballyhoura mtb rate ballyhoura mountainbi...   \n",
       "302  ballyhoura mountain trail fantastic amenity do...   \n",
       "303  deric tv xvkings zara riverislandpr pop ballyh...   \n",
       "\n",
       "                                         emotions_freq  \n",
       "299  {'fear': 0.07692307692307693, 'anger': 0.07692...  \n",
       "300  {'fear': 0.0, 'anger': 0.0, 'anticip': 0.0, 't...  \n",
       "301  {'fear': 0.0, 'anger': 0.0, 'anticip': 0.0, 't...  \n",
       "302  {'fear': 0.0, 'anger': 0.0, 'anticip': 0.0, 't...  \n",
       "303  {'fear': 0.0, 'anger': 0.0, 'anticip': 0.0, 't...  "
      ]
     },
     "execution_count": 47,
     "metadata": {},
     "output_type": "execute_result"
    }
   ],
   "source": [
    "#Return affect frequencies\n",
    "df[\"emotions_freq\"] = df[\"text1\"].apply(lambda x: NRCLex(x).affect_frequencies)\n",
    "df_f= df[[\"text1\",\"emotions_freq\"]]\n",
    "df_f.head()"
   ]
  },
  {
   "cell_type": "code",
   "execution_count": 49,
   "metadata": {},
   "outputs": [
    {
     "data": {
      "text/html": [
       "<div>\n",
       "<style scoped>\n",
       "    .dataframe tbody tr th:only-of-type {\n",
       "        vertical-align: middle;\n",
       "    }\n",
       "\n",
       "    .dataframe tbody tr th {\n",
       "        vertical-align: top;\n",
       "    }\n",
       "\n",
       "    .dataframe thead th {\n",
       "        text-align: right;\n",
       "    }\n",
       "</style>\n",
       "<table border=\"1\" class=\"dataframe\">\n",
       "  <thead>\n",
       "    <tr style=\"text-align: right;\">\n",
       "      <th></th>\n",
       "      <th>text1</th>\n",
       "      <th>fear</th>\n",
       "      <th>anger</th>\n",
       "      <th>trust</th>\n",
       "      <th>surprise</th>\n",
       "      <th>positive</th>\n",
       "      <th>negative</th>\n",
       "      <th>sadness</th>\n",
       "      <th>disgust</th>\n",
       "      <th>joy</th>\n",
       "      <th>anticipation</th>\n",
       "    </tr>\n",
       "  </thead>\n",
       "  <tbody>\n",
       "    <tr>\n",
       "      <th>299</th>\n",
       "      <td>ballyhoura ceramic wise participant ballyhoura...</td>\n",
       "      <td>0.076923</td>\n",
       "      <td>0.076923</td>\n",
       "      <td>0.076923</td>\n",
       "      <td>0.153846</td>\n",
       "      <td>0.230769</td>\n",
       "      <td>0.076923</td>\n",
       "      <td>0.0</td>\n",
       "      <td>0.0</td>\n",
       "      <td>0.153846</td>\n",
       "      <td>0.153846</td>\n",
       "    </tr>\n",
       "    <tr>\n",
       "      <th>300</th>\n",
       "      <td>come moat kilfinane overlook ballyhoura mounta...</td>\n",
       "      <td>0.000000</td>\n",
       "      <td>0.000000</td>\n",
       "      <td>0.500000</td>\n",
       "      <td>0.000000</td>\n",
       "      <td>0.000000</td>\n",
       "      <td>0.000000</td>\n",
       "      <td>0.0</td>\n",
       "      <td>0.0</td>\n",
       "      <td>0.000000</td>\n",
       "      <td>0.500000</td>\n",
       "    </tr>\n",
       "    <tr>\n",
       "      <th>301</th>\n",
       "      <td>wild ballyhoura mtb rate ballyhoura mountainbi...</td>\n",
       "      <td>0.000000</td>\n",
       "      <td>0.000000</td>\n",
       "      <td>0.000000</td>\n",
       "      <td>0.500000</td>\n",
       "      <td>0.000000</td>\n",
       "      <td>0.500000</td>\n",
       "      <td>0.0</td>\n",
       "      <td>0.0</td>\n",
       "      <td>0.000000</td>\n",
       "      <td>0.000000</td>\n",
       "    </tr>\n",
       "    <tr>\n",
       "      <th>302</th>\n",
       "      <td>ballyhoura mountain trail fantastic amenity do...</td>\n",
       "      <td>0.000000</td>\n",
       "      <td>0.000000</td>\n",
       "      <td>0.000000</td>\n",
       "      <td>0.000000</td>\n",
       "      <td>0.500000</td>\n",
       "      <td>0.000000</td>\n",
       "      <td>0.0</td>\n",
       "      <td>0.0</td>\n",
       "      <td>0.000000</td>\n",
       "      <td>0.500000</td>\n",
       "    </tr>\n",
       "    <tr>\n",
       "      <th>303</th>\n",
       "      <td>deric tv xvkings zara riverislandpr pop ballyh...</td>\n",
       "      <td>0.000000</td>\n",
       "      <td>0.000000</td>\n",
       "      <td>0.166667</td>\n",
       "      <td>0.166667</td>\n",
       "      <td>0.166667</td>\n",
       "      <td>0.166667</td>\n",
       "      <td>0.0</td>\n",
       "      <td>0.0</td>\n",
       "      <td>0.166667</td>\n",
       "      <td>0.166667</td>\n",
       "    </tr>\n",
       "  </tbody>\n",
       "</table>\n",
       "</div>"
      ],
      "text/plain": [
       "                                                 text1      fear     anger  \\\n",
       "299  ballyhoura ceramic wise participant ballyhoura...  0.076923  0.076923   \n",
       "300  come moat kilfinane overlook ballyhoura mounta...  0.000000  0.000000   \n",
       "301  wild ballyhoura mtb rate ballyhoura mountainbi...  0.000000  0.000000   \n",
       "302  ballyhoura mountain trail fantastic amenity do...  0.000000  0.000000   \n",
       "303  deric tv xvkings zara riverislandpr pop ballyh...  0.000000  0.000000   \n",
       "\n",
       "        trust  surprise  positive  negative  sadness  disgust       joy  \\\n",
       "299  0.076923  0.153846  0.230769  0.076923      0.0      0.0  0.153846   \n",
       "300  0.500000  0.000000  0.000000  0.000000      0.0      0.0  0.000000   \n",
       "301  0.000000  0.500000  0.000000  0.500000      0.0      0.0  0.000000   \n",
       "302  0.000000  0.000000  0.500000  0.000000      0.0      0.0  0.000000   \n",
       "303  0.166667  0.166667  0.166667  0.166667      0.0      0.0  0.166667   \n",
       "\n",
       "     anticipation  \n",
       "299      0.153846  \n",
       "300      0.500000  \n",
       "301      0.000000  \n",
       "302      0.500000  \n",
       "303      0.166667  "
      ]
     },
     "execution_count": 49,
     "metadata": {},
     "output_type": "execute_result"
    }
   ],
   "source": [
    "#Concateno il dataframe df_f in cui ho preso solo la colonna text1 con drop\n",
    "# e quello in cui ho estratto il dizionario in formato pandas e messo le emozioni in colonna\n",
    "#con .drop elimino la colonna anticip che è in più dato che esiste anticipation\n",
    "df_s = pd.concat([df_f.drop(['emotions_freq'], axis = 1), df_f['emotions_freq'].apply(pd.Series).drop(\"anticip\", axis=1)], axis = 1)\n",
    "\n",
    "#Replace NaN with 0\n",
    "df_s = df_s.replace(np.nan,0)\n",
    "df_s.head()\n"
   ]
  },
  {
   "cell_type": "code",
   "execution_count": 56,
   "metadata": {},
   "outputs": [
    {
     "name": "stdout",
     "output_type": "stream",
     "text": [
      "fear :  0.020\n",
      "anger :  0.021\n",
      "trust :  0.120\n",
      "surprise :  0.048\n",
      "positive :  0.275\n",
      "negative :  0.054\n",
      "sadness :  0.015\n",
      "disgust :  0.003\n",
      "joy :  0.123\n",
      "anticipation :  0.154\n"
     ]
    }
   ],
   "source": [
    "sys.path.insert(1,'..')\n",
    "from Utility_Fede import aggregation\n",
    "aggr = []\n",
    "labels = []\n",
    "\n",
    "for i in df_f['emotions_freq'].apply(pd.Series).drop(\"anticip\", axis=1) : aggregation(i,df_s,aggr,labels)"
   ]
  }
 ],
 "metadata": {
  "kernelspec": {
   "display_name": "Python 3.10.4 64-bit",
   "language": "python",
   "name": "python3"
  },
  "language_info": {
   "codemirror_mode": {
    "name": "ipython",
    "version": 3
   },
   "file_extension": ".py",
   "mimetype": "text/x-python",
   "name": "python",
   "nbconvert_exporter": "python",
   "pygments_lexer": "ipython3",
   "version": "3.10.4"
  },
  "orig_nbformat": 4,
  "vscode": {
   "interpreter": {
    "hash": "aee8b7b246df8f9039afb4144a1f6fd8d2ca17a180786b69acc140d282b71a49"
   }
  }
 },
 "nbformat": 4,
 "nbformat_minor": 2
}
