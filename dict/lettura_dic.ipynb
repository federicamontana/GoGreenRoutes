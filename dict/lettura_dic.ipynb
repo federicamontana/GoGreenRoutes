{
 "cells": [
  {
   "cell_type": "code",
   "execution_count": 53,
   "metadata": {},
   "outputs": [],
   "source": [
    "import pandas as pd\n",
    "import os\n",
    "import liwc"
   ]
  },
  {
   "cell_type": "code",
   "execution_count": 54,
   "metadata": {},
   "outputs": [],
   "source": [
    "parse, category_names = liwc.load_token_parser('LIWC2007_English080730.dic')"
   ]
  },
  {
   "cell_type": "code",
   "execution_count": 55,
   "metadata": {},
   "outputs": [],
   "source": [
    "def _parse_categories(lines):\n",
    "    \"\"\"\n",
    "    Read (category_id, category_name) pairs from the categories section.\n",
    "    Each line consists of an integer followed a tab and then the category name.\n",
    "    This section is separated from the lexicon by a line consisting of a single \"%\".\n",
    "    \"\"\"\n",
    "    for line in lines:\n",
    "        line = line.strip()\n",
    "        if line == \"%\":\n",
    "            return\n",
    "        # ignore non-matching groups of categories\n",
    "        if \"\\t\" in line:\n",
    "            category_id, category_name = line.split(\"\\t\", 1)\n",
    "            yield category_id, category_name"
   ]
  },
  {
   "cell_type": "code",
   "execution_count": 56,
   "metadata": {},
   "outputs": [],
   "source": [
    "def _parse_lexicon(lines, category_mapping):\n",
    "    \"\"\"\n",
    "    Read (match_expression, category_names) pairs from the lexicon section.\n",
    "    Each line consists of a match expression followed by a tab and then one or more\n",
    "    tab-separated integers, which are mapped to category names using `category_mapping`.\n",
    "    \"\"\"\n",
    "    for line in lines:\n",
    "        line = line.strip()\n",
    "        parts = line.split(\"\\t\")\n",
    "        yield parts[0], [category_mapping[category_id] for category_id in parts[1:]]"
   ]
  },
  {
   "cell_type": "code",
   "execution_count": 57,
   "metadata": {},
   "outputs": [],
   "source": [
    "def read_dic(filepath):\n",
    "    \"\"\"\n",
    "    Reads a LIWC lexicon from a file in the .dic format, returning a tuple of\n",
    "    (lexicon, category_names), where:\n",
    "    * `lexicon` is a dict mapping string patterns to lists of category names\n",
    "    * `category_names` is a list of category names (as strings)\n",
    "    \"\"\"\n",
    "    with open(filepath) as lines:\n",
    "        # read up to first \"%\" (should be very first line of file)\n",
    "        for line in lines:\n",
    "            if line.strip() == \"%\":\n",
    "                break\n",
    "        # read categories (a mapping from integer string to category name)\n",
    "        category_mapping = dict(_parse_categories(lines))\n",
    "        # read lexicon (a mapping from matching string to a list of category names)\n",
    "        lexicon = dict(_parse_lexicon(lines, category_mapping))\n",
    "    return lexicon, list(category_mapping.values())"
   ]
  },
  {
   "cell_type": "code",
   "execution_count": 58,
   "metadata": {},
   "outputs": [],
   "source": [
    "dizionario,lista = read_dic('LIWC2007_English080730.dic')"
   ]
  },
  {
   "cell_type": "code",
   "execution_count": 66,
   "metadata": {},
   "outputs": [],
   "source": [
    "import json\n",
    "with open('liwc_dic.json', 'w') as fp:\n",
    "    json.dump(dizionario, fp, indent=1)"
   ]
  },
  {
   "cell_type": "code",
   "execution_count": null,
   "metadata": {},
   "outputs": [],
   "source": []
  }
 ],
 "metadata": {
  "kernelspec": {
   "display_name": "Python 3.10.4 64-bit",
   "language": "python",
   "name": "python3"
  },
  "language_info": {
   "codemirror_mode": {
    "name": "ipython",
    "version": 3
   },
   "file_extension": ".py",
   "mimetype": "text/x-python",
   "name": "python",
   "nbconvert_exporter": "python",
   "pygments_lexer": "ipython3",
   "version": "3.10.4"
  },
  "orig_nbformat": 4,
  "vscode": {
   "interpreter": {
    "hash": "aee8b7b246df8f9039afb4144a1f6fd8d2ca17a180786b69acc140d282b71a49"
   }
  }
 },
 "nbformat": 4,
 "nbformat_minor": 2
}
